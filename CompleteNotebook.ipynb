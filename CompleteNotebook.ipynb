{
  "nbformat": 4,
  "nbformat_minor": 0,
  "metadata": {
    "accelerator": "GPU",
    "colab": {
      "name": "Untitled1.ipynb",
      "provenance": [],
      "toc_visible": true
    },
    "kernelspec": {
      "display_name": "Python 3",
      "language": "python",
      "name": "python3"
    },
    "language_info": {
      "codemirror_mode": {
        "name": "ipython",
        "version": 3
      },
      "file_extension": ".py",
      "mimetype": "text/x-python",
      "name": "python",
      "nbconvert_exporter": "python",
      "pygments_lexer": "ipython3",
      "version": "3.8.3"
    }
  },
  "cells": [
    {
      "cell_type": "markdown",
      "metadata": {
        "id": "rs7PuA8iHro0"
      },
      "source": [
        "# Autoencoder as a Classifier using Fashion-MNIST Dataset"
      ]
    },
    {
      "cell_type": "markdown",
      "metadata": {
        "id": "-l7o39HTHro4"
      },
      "source": [
        "## Tous kodikes en tous etrexa giati itan na pari para polli ora.Apoti ekatalava en oti zita stin ergasia pano kato.To dataset en polla paromoio ara en nomizo na xriasti na allaksoume je polla "
      ]
    },
    {
      "cell_type": "markdown",
      "metadata": {
        "id": "P58-O9moHro7"
      },
      "source": [
        "Import necessary libraries"
      ]
    },
    {
      "cell_type": "code",
      "metadata": {
        "colab": {
          "base_uri": "https://localhost:8080/"
        },
        "id": "J3gbZdYNHro9",
        "outputId": "e2d169d3-e9ee-4862-82ca-7351ae2b219b"
      },
      "source": [
        "from google.colab import drive\n",
        "drive.mount('/content/drive')\n",
        "import keras\n",
        "from matplotlib import pyplot as plt\n",
        "import numpy as np\n",
        "import gzip\n",
        "%matplotlib inline\n",
        "from keras.models import Model\n",
        "from keras.optimizers import RMSprop\n",
        "from keras.layers import Input,Dense,Flatten,Dropout,merge,Reshape,Conv2D,MaxPooling2D,UpSampling2D,Conv2DTranspose\n",
        "from keras.layers.normalization import BatchNormalization\n",
        "from keras.models import Model,Sequential\n",
        "from keras.callbacks import ModelCheckpoint\n",
        "from keras.optimizers import Adadelta, RMSprop,SGD,Adam\n",
        "from keras import regularizers\n",
        "from keras import backend as K\n",
        "from keras.utils import to_categorical\n",
        "import struct as st\n"
      ],
      "execution_count": 9,
      "outputs": [
        {
          "output_type": "stream",
          "text": [
            "Drive already mounted at /content/drive; to attempt to forcibly remount, call drive.mount(\"/content/drive\", force_remount=True).\n"
          ],
          "name": "stdout"
        }
      ]
    },
    {
      "cell_type": "markdown",
      "metadata": {
        "id": "PyuxiNYMHrpO"
      },
      "source": [
        "Function to read the data"
      ]
    },
    {
      "cell_type": "code",
      "metadata": {
        "id": "_sKptFtmHrpQ"
      },
      "source": [
        "\n",
        "def read_data(filename):\n",
        "    file = gzip.open(filename,'rb')\n",
        "    file.seek(0)\n",
        "    magic_number = st.unpack('>4B',file.read(4)) # read magic number\n",
        "    number_of_images = st.unpack('>I',file.read(4))[0] # read number of images\n",
        "    number_of_rows = st.unpack('>I',file.read(4))[0] #read number of rows\n",
        "    number_of_columns = st.unpack('>I',file.read(4))[0] #read number of column\n",
        "    with gzip.open(filename) as file_stream:\n",
        "        file_stream.read(16)\n",
        "        buf = file_stream.read(number_of_rows * number_of_columns * number_of_images)\n",
        "        data = np.frombuffer(buf, dtype=np.uint8).astype(np.float32)\n",
        "        data = data.reshape(number_of_images, number_of_rows,number_of_columns)\n",
        "        return data"
      ],
      "execution_count": 10,
      "outputs": []
    },
    {
      "cell_type": "code",
      "metadata": {
        "id": "gTYuUPDeHrpY"
      },
      "source": [
        "train_data = read_data('/content/train-images-idx3-ubyte.gz')\n",
        "test_data = read_data('/content/t10k-images-idx3-ubyte.gz')"
      ],
      "execution_count": 12,
      "outputs": []
    },
    {
      "cell_type": "markdown",
      "metadata": {
        "id": "NZtzdxg1Hrph"
      },
      "source": [
        "Function to read labels"
      ]
    },
    {
      "cell_type": "code",
      "metadata": {
        "id": "v05ZippzHrpi"
      },
      "source": [
        "\n",
        "def read_labels(filename):\n",
        "    file = gzip.open(filename,'rb')\n",
        "    file.seek(0)\n",
        "    magic_number = st.unpack('>4B',file.read(4)) # read magic number\n",
        "    number_of_iteams = st.unpack('>I',file.read(4))[0] # read number of images\n",
        "    with gzip.open(filename) as file_stream:\n",
        "        file_stream.read(8)\n",
        "        buf = file_stream.read(number_of_iteams)\n",
        "        labels = np.frombuffer(buf, dtype=np.uint8).astype(np.int64)\n",
        "        return labels"
      ],
      "execution_count": 13,
      "outputs": []
    },
    {
      "cell_type": "code",
      "metadata": {
        "id": "OFRwx93NHrpq"
      },
      "source": [
        "train_labels = read_labels('/content/train-labels-idx1-ubyte.gz')\n",
        "test_labels = read_labels('/content/t10k-labels-idx1-ubyte.gz')"
      ],
      "execution_count": 14,
      "outputs": []
    },
    {
      "cell_type": "code",
      "metadata": {
        "colab": {
          "base_uri": "https://localhost:8080/"
        },
        "id": "yH-uVRUoHrp1",
        "outputId": "109251ce-c166-4137-ec2d-01920001921c"
      },
      "source": [
        "# Shapes of training set\n",
        "print(\"Training set (images) shape: {shape}\".format(shape=train_data.shape))\n",
        "\n",
        "# Shapes of test set\n",
        "print(\"Test set (images) shape: {shape}\".format(shape=test_data.shape))"
      ],
      "execution_count": 15,
      "outputs": [
        {
          "output_type": "stream",
          "text": [
            "Training set (images) shape: (60000, 28, 28)\n",
            "Test set (images) shape: (10000, 28, 28)\n"
          ],
          "name": "stdout"
        }
      ]
    },
    {
      "cell_type": "code",
      "metadata": {
        "id": "SC8HjN3hHrp_"
      },
      "source": [
        "# Create dictionary of target classes\n",
        "label_dict = {\n",
        " 0: '0',\n",
        " 1: '1',\n",
        " 2: '2',\n",
        " 3: '3',\n",
        " 4: '4',\n",
        " 5: '5',\n",
        " 6: '6',\n",
        " 7: '7',\n",
        " 8: '8',\n",
        " 9: '9',\n",
        "}"
      ],
      "execution_count": 16,
      "outputs": []
    },
    {
      "cell_type": "markdown",
      "metadata": {
        "id": "CoS6JSU3HrqE"
      },
      "source": [
        "Inspect some of the images in the dataset:"
      ]
    },
    {
      "cell_type": "code",
      "metadata": {
        "colab": {
          "base_uri": "https://localhost:8080/",
          "height": 208
        },
        "id": "t6_Gv88UHrqF",
        "outputId": "a0f1814b-386b-4990-af75-6ef4dfb54a33"
      },
      "source": [
        "plt.figure(figsize=[5,5])\n",
        "\n",
        "# Display the first image in training data\n",
        "plt.subplot(121)\n",
        "curr_img = np.reshape(train_data[10], (28,28))\n",
        "curr_lbl = train_labels[10]\n",
        "plt.imshow(curr_img, cmap='gray')\n",
        "plt.title(\"(Label: \" + str(label_dict[curr_lbl]) + \")\")\n",
        "\n",
        "# Display the first image in testing data\n",
        "plt.subplot(122)\n",
        "curr_img = np.reshape(test_data[10], (28,28))\n",
        "curr_lbl = test_labels[10]\n",
        "plt.imshow(curr_img, cmap='gray')\n",
        "plt.title(\"(Label: \" + str(label_dict[curr_lbl]) + \")\")\n"
      ],
      "execution_count": 17,
      "outputs": [
        {
          "output_type": "execute_result",
          "data": {
            "text/plain": [
              "Text(0.5, 1.0, '(Label: 0)')"
            ]
          },
          "metadata": {
            "tags": []
          },
          "execution_count": 17
        },
        {
          "output_type": "display_data",
          "data": {
            "image/png": "[encoded data removed]",
            "text/plain": [
              "<Figure size 360x360 with 2 Axes>"
            ]
          },
          "metadata": {
            "tags": [],
            "needs_background": "light"
          }
        }
      ]
    },
    {
      "cell_type": "markdown",
      "metadata": {
        "id": "_LvxONdVHrqN"
      },
      "source": [
        "Data Preprocessing\n",
        "\n",
        "Reshape the images"
      ]
    },
    {
      "cell_type": "code",
      "metadata": {
        "colab": {
          "base_uri": "https://localhost:8080/"
        },
        "id": "k8WvDha0HrqO",
        "outputId": "f10a2b5e-e67a-423e-e7ad-eb44341236b7"
      },
      "source": [
        "train_data = train_data.reshape(-1, 28,28, 1)\n",
        "test_data = test_data.reshape(-1, 28,28, 1)\n",
        "train_data.shape, test_data.shape"
      ],
      "execution_count": 18,
      "outputs": [
        {
          "output_type": "execute_result",
          "data": {
            "text/plain": [
              "((60000, 28, 28, 1), (10000, 28, 28, 1))"
            ]
          },
          "metadata": {
            "tags": []
          },
          "execution_count": 18
        }
      ]
    },
    {
      "cell_type": "markdown",
      "metadata": {
        "id": "K1zNEOnHHrqU"
      },
      "source": [
        "Rescale the training and testing data with the maximum pixel value of the training and testing data:"
      ]
    },
    {
      "cell_type": "code",
      "metadata": {
        "id": "pm_-jJ1uHrqV"
      },
      "source": [
        "train_data = train_data / np.max(train_data)\n",
        "test_data = test_data / np.max(test_data)"
      ],
      "execution_count": 19,
      "outputs": []
    },
    {
      "cell_type": "markdown",
      "metadata": {
        "id": "IQhp-e22Hrqb"
      },
      "source": [
        "Partition the data.\n",
        "Split the data to a training and a validation set\n"
      ]
    },
    {
      "cell_type": "code",
      "metadata": {
        "id": "xpef6L4jHrqc"
      },
      "source": [
        "from sklearn.model_selection import train_test_split\n",
        "train_X,valid_X,train_ground,valid_ground = train_test_split(train_data,\n",
        "                                                             train_data,\n",
        "                                                             test_size=0.2,\n",
        "                                                             random_state=13)"
      ],
      "execution_count": 20,
      "outputs": []
    },
    {
      "cell_type": "markdown",
      "metadata": {
        "id": "ItdH2aMAHrql"
      },
      "source": [
        "## The Convolutional Autoencoder"
      ]
    },
    {
      "cell_type": "code",
      "metadata": {
        "id": "AVk7XldTHrqm"
      },
      "source": [
        "batch_size = 256\n",
        "epochs = 100\n",
        "inChannel = 1\n",
        "x, y = 28, 28\n",
        "input_img = Input(shape = (x, y, inChannel))\n",
        "num_classes = 10"
      ],
      "execution_count": 21,
      "outputs": []
    },
    {
      "cell_type": "code",
      "metadata": {
        "id": "N_20Us2MHrqt"
      },
      "source": [
        "def encoder(input_img):\n",
        "    #encoder\n",
        "    #input = 28 x 28 x 1 (wide and thin)\n",
        "    conv1 = Conv2D(32, (3, 3), activation='softmax', padding='same')(input_img) #28 x 28 x 32\n",
        "    conv1 = BatchNormalization()(conv1)\n",
        "    conv1 = Conv2D(32, (3, 3), activation='softmax', padding='same')(conv1)\n",
        "    conv1 = BatchNormalization()(conv1)\n",
        "    pool1 = MaxPooling2D(pool_size=(2, 2))(conv1) #14 x 14 x 32\n",
        "    conv2 = Conv2D(64, (3, 3), activation='softmax', padding='same')(pool1) #14 x 14 x 64\n",
        "    conv2 = BatchNormalization()(conv2)\n",
        "    conv2 = Conv2D(64, (3, 3), activation='softmax', padding='same')(conv2)\n",
        "    conv2 = BatchNormalization()(conv2)\n",
        "    pool2 = MaxPooling2D(pool_size=(2, 2))(conv2) #7 x 7 x 64\n",
        "    conv3 = Conv2D(128, (3, 3), activation='softmax', padding='same')(pool2) #7 x 7 x 128 (small and thick)\n",
        "    conv3 = BatchNormalization()(conv3)\n",
        "    conv3 = Conv2D(128, (3, 3), activation='softmax', padding='same')(conv3)\n",
        "    conv3 = BatchNormalization()(conv3)\n",
        "    conv4 = Conv2D(256, (3, 3), activation='softmax', padding='same')(conv3) #7 x 7 x 256 (small and thick)\n",
        "    conv4 = BatchNormalization()(conv4)\n",
        "    conv4 = Conv2D(256, (3, 3), activation='softmax', padding='same')(conv4)\n",
        "    conv4 = BatchNormalization()(conv4)\n",
        "    return conv4\n",
        "\n",
        "def decoder(conv4):    \n",
        "    #decoder\n",
        "    conv5 = Conv2D(256, (3, 3), activation='softmax', padding='same')(conv4) #7 x 7 x 128\n",
        "    conv5 = BatchNormalization()(conv5)\n",
        "    conv5 = Conv2D(256, (3, 3), activation='softmax', padding='same')(conv5)\n",
        "    conv5 = BatchNormalization()(conv5)\n",
        "    conv6 = Conv2D(128, (3, 3), activation='softmax', padding='same')(conv5) #7 x 7 x 64\n",
        "    conv6 = BatchNormalization()(conv6)\n",
        "    conv6 = Conv2D(128, (3, 3), activation='softmax', padding='same')(conv6)\n",
        "    conv6 = BatchNormalization()(conv6)\n",
        "    up1 = UpSampling2D((2,2))(conv6) #14 x 14 x 64\n",
        "    conv7 = Conv2D(64, (3, 3), activation='softmax', padding='same')(up1) # 14 x 14 x 32\n",
        "    conv7 = BatchNormalization()(conv7)\n",
        "    conv7 = Conv2D(64, (3, 3), activation='softmax', padding='same')(conv7)\n",
        "    conv7 = BatchNormalization()(conv7)\n",
        "    \n",
        "    up2 = UpSampling2D((2,2))(conv7) # 28 x 28 x 32\n",
        "    decoded = Conv2D(1, (3, 3), activation='sigmoid', padding='same')(up2) # 28 x 28 x 1\n",
        "    return decoded"
      ],
      "execution_count": 23,
      "outputs": []
    },
    {
      "cell_type": "markdown",
      "metadata": {
        "id": "yHqPp80FHrqy"
      },
      "source": [
        "Compile the model using the optimizer to be RMSProp and mean squared error for loss function"
      ]
    },
    {
      "cell_type": "code",
      "metadata": {
        "id": "OQ9tnEf0Hrqz"
      },
      "source": [
        "autoencoder = Model(input_img, decoder(encoder(input_img)))\n",
        "autoencoder.compile(loss='mean_squared_error', optimizer = RMSprop())"
      ],
      "execution_count": 24,
      "outputs": []
    },
    {
      "cell_type": "code",
      "metadata": {
        "colab": {
          "base_uri": "https://localhost:8080/"
        },
        "id": "Y8sd-XndHrq5",
        "outputId": "c357ef19-cc8c-4f23-ed8e-bdd85fa036b2"
      },
      "source": [
        "autoencoder.summary()"
      ],
      "execution_count": 26,
      "outputs": [
        {
          "output_type": "stream",
          "text": [
            "Model: \"functional_1\"\n",
            "_________________________________________________________________\n",
            "Layer (type)                 Output Shape              Param #   \n",
            "=================================================================\n",
            "input_1 (InputLayer)         [(None, 28, 28, 1)]       0         \n",
            "_________________________________________________________________\n",
            "conv2d (Conv2D)              (None, 28, 28, 32)        320       \n",
            "_________________________________________________________________\n",
            "batch_normalization (BatchNo (None, 28, 28, 32)        128       \n",
            "_________________________________________________________________\n",
            "conv2d_1 (Conv2D)            (None, 28, 28, 32)        9248      \n",
            "_________________________________________________________________\n",
            "batch_normalization_1 (Batch (None, 28, 28, 32)        128       \n",
            "_________________________________________________________________\n",
            "max_pooling2d (MaxPooling2D) (None, 14, 14, 32)        0         \n",
            "_________________________________________________________________\n",
            "conv2d_2 (Conv2D)            (None, 14, 14, 64)        18496     \n",
            "_________________________________________________________________\n",
            "batch_normalization_2 (Batch (None, 14, 14, 64)        256       \n",
            "_________________________________________________________________\n",
            "conv2d_3 (Conv2D)            (None, 14, 14, 64)        36928     \n",
            "_________________________________________________________________\n",
            "batch_normalization_3 (Batch (None, 14, 14, 64)        256       \n",
            "_________________________________________________________________\n",
            "max_pooling2d_1 (MaxPooling2 (None, 7, 7, 64)          0         \n",
            "_________________________________________________________________\n",
            "conv2d_4 (Conv2D)            (None, 7, 7, 128)         73856     \n",
            "_________________________________________________________________\n",
            "batch_normalization_4 (Batch (None, 7, 7, 128)         512       \n",
            "_________________________________________________________________\n",
            "conv2d_5 (Conv2D)            (None, 7, 7, 128)         147584    \n",
            "_________________________________________________________________\n",
            "batch_normalization_5 (Batch (None, 7, 7, 128)         512       \n",
            "_________________________________________________________________\n",
            "conv2d_6 (Conv2D)            (None, 7, 7, 256)         295168    \n",
            "_________________________________________________________________\n",
            "batch_normalization_6 (Batch (None, 7, 7, 256)         1024      \n",
            "_________________________________________________________________\n",
            "conv2d_7 (Conv2D)            (None, 7, 7, 256)         590080    \n",
            "_________________________________________________________________\n",
            "batch_normalization_7 (Batch (None, 7, 7, 256)         1024      \n",
            "_________________________________________________________________\n",
            "conv2d_8 (Conv2D)            (None, 7, 7, 256)         590080    \n",
            "_________________________________________________________________\n",
            "batch_normalization_8 (Batch (None, 7, 7, 256)         1024      \n",
            "_________________________________________________________________\n",
            "conv2d_9 (Conv2D)            (None, 7, 7, 256)         590080    \n",
            "_________________________________________________________________\n",
            "batch_normalization_9 (Batch (None, 7, 7, 256)         1024      \n",
            "_________________________________________________________________\n",
            "conv2d_10 (Conv2D)           (None, 7, 7, 128)         295040    \n",
            "_________________________________________________________________\n",
            "batch_normalization_10 (Batc (None, 7, 7, 128)         512       \n",
            "_________________________________________________________________\n",
            "conv2d_11 (Conv2D)           (None, 7, 7, 128)         147584    \n",
            "_________________________________________________________________\n",
            "batch_normalization_11 (Batc (None, 7, 7, 128)         512       \n",
            "_________________________________________________________________\n",
            "up_sampling2d (UpSampling2D) (None, 14, 14, 128)       0         \n",
            "_________________________________________________________________\n",
            "conv2d_12 (Conv2D)           (None, 14, 14, 64)        73792     \n",
            "_________________________________________________________________\n",
            "batch_normalization_12 (Batc (None, 14, 14, 64)        256       \n",
            "_________________________________________________________________\n",
            "conv2d_13 (Conv2D)           (None, 14, 14, 64)        36928     \n",
            "_________________________________________________________________\n",
            "batch_normalization_13 (Batc (None, 14, 14, 64)        256       \n",
            "_________________________________________________________________\n",
            "up_sampling2d_1 (UpSampling2 (None, 28, 28, 64)        0         \n",
            "_________________________________________________________________\n",
            "conv2d_14 (Conv2D)           (None, 28, 28, 1)         577       \n",
            "=================================================================\n",
            "Total params: 2,913,185\n",
            "Trainable params: 2,909,473\n",
            "Non-trainable params: 3,712\n",
            "_________________________________________________________________\n"
          ],
          "name": "stdout"
        }
      ]
    },
    {
      "cell_type": "markdown",
      "metadata": {
        "id": "IIdLZ53JHrq_"
      },
      "source": [
        "Train the model"
      ]
    },
    {
      "cell_type": "code",
      "metadata": {
        "colab": {
          "base_uri": "https://localhost:8080/"
        },
        "id": "tscKaXx8HrrA",
        "outputId": "6ab5feef-140c-45cb-b480-0159824d7d64"
      },
      "source": [
        "autoencoder_train = autoencoder.fit(train_X, train_ground, batch_size=batch_size,epochs=epochs,verbose=1,validation_data=(valid_X, valid_ground))"
      ],
      "execution_count": 27,
      "outputs": [
        {
          "output_type": "stream",
          "text": [
            "Epoch 1/100\n",
            "188/188 [==============================] - 20s 108ms/step - loss: 0.0764 - val_loss: 0.1024\n",
            "Epoch 2/100\n",
            "188/188 [==============================] - 20s 105ms/step - loss: 0.0318 - val_loss: 0.1058\n",
            "Epoch 3/100\n",
            "188/188 [==============================] - 20s 106ms/step - loss: 0.0209 - val_loss: 0.1001\n",
            "Epoch 4/100\n",
            "188/188 [==============================] - 20s 107ms/step - loss: 0.0139 - val_loss: 0.0785\n",
            "Epoch 5/100\n",
            "188/188 [==============================] - 20s 108ms/step - loss: 0.0103 - val_loss: 0.0128\n",
            "Epoch 6/100\n",
            "188/188 [==============================] - 20s 109ms/step - loss: 0.0084 - val_loss: 0.0081\n",
            "Epoch 7/100\n",
            "188/188 [==============================] - 21s 110ms/step - loss: 0.0070 - val_loss: 0.0064\n",
            "Epoch 8/100\n",
            "188/188 [==============================] - 21s 109ms/step - loss: 0.0061 - val_loss: 0.0075\n",
            "Epoch 9/100\n",
            "188/188 [==============================] - 20s 109ms/step - loss: 0.0054 - val_loss: 0.0062\n",
            "Epoch 10/100\n",
            "188/188 [==============================] - 21s 109ms/step - loss: 0.0049 - val_loss: 0.0049\n",
            "Epoch 11/100\n",
            "188/188 [==============================] - 21s 109ms/step - loss: 0.0045 - val_loss: 0.0035\n",
            "Epoch 12/100\n",
            "188/188 [==============================] - 21s 110ms/step - loss: 0.0041 - val_loss: 0.0043\n",
            "Epoch 13/100\n",
            "188/188 [==============================] - 21s 109ms/step - loss: 0.0038 - val_loss: 0.0036\n",
            "Epoch 14/100\n",
            "188/188 [==============================] - 21s 109ms/step - loss: 0.0036 - val_loss: 0.0036\n",
            "Epoch 15/100\n",
            "188/188 [==============================] - 20s 109ms/step - loss: 0.0034 - val_loss: 0.0033\n",
            "Epoch 16/100\n",
            "188/188 [==============================] - 21s 109ms/step - loss: 0.0032 - val_loss: 0.0033\n",
            "Epoch 17/100\n",
            "188/188 [==============================] - 21s 109ms/step - loss: 0.0031 - val_loss: 0.0033\n",
            "Epoch 18/100\n",
            "188/188 [==============================] - 21s 109ms/step - loss: 0.0030 - val_loss: 0.0045\n",
            "Epoch 19/100\n",
            "188/188 [==============================] - 21s 110ms/step - loss: 0.0028 - val_loss: 0.0028\n",
            "Epoch 20/100\n",
            "188/188 [==============================] - 21s 109ms/step - loss: 0.0027 - val_loss: 0.0034\n",
            "Epoch 21/100\n",
            "188/188 [==============================] - 21s 110ms/step - loss: 0.0026 - val_loss: 0.0032\n",
            "Epoch 22/100\n",
            "188/188 [==============================] - 21s 110ms/step - loss: 0.0025 - val_loss: 0.0027\n",
            "Epoch 23/100\n",
            "188/188 [==============================] - 21s 110ms/step - loss: 0.0024 - val_loss: 0.0023\n",
            "Epoch 24/100\n",
            "188/188 [==============================] - 21s 110ms/step - loss: 0.0024 - val_loss: 0.0022\n",
            "Epoch 25/100\n",
            "188/188 [==============================] - 21s 109ms/step - loss: 0.0023 - val_loss: 0.0024\n",
            "Epoch 26/100\n",
            "188/188 [==============================] - 21s 109ms/step - loss: 0.0022 - val_loss: 0.0026\n",
            "Epoch 27/100\n",
            "188/188 [==============================] - 21s 109ms/step - loss: 0.0022 - val_loss: 0.0027\n",
            "Epoch 28/100\n",
            "188/188 [==============================] - 21s 110ms/step - loss: 0.0021 - val_loss: 0.0026\n",
            "Epoch 29/100\n",
            "188/188 [==============================] - 21s 110ms/step - loss: 0.0021 - val_loss: 0.0019\n",
            "Epoch 30/100\n",
            "188/188 [==============================] - 21s 110ms/step - loss: 0.0020 - val_loss: 0.0024\n",
            "Epoch 31/100\n",
            "188/188 [==============================] - 21s 110ms/step - loss: 0.0020 - val_loss: 0.0020\n",
            "Epoch 32/100\n",
            "188/188 [==============================] - 21s 110ms/step - loss: 0.0019 - val_loss: 0.0026\n",
            "Epoch 33/100\n",
            "188/188 [==============================] - 21s 109ms/step - loss: 0.0019 - val_loss: 0.0019\n",
            "Epoch 34/100\n",
            "188/188 [==============================] - 21s 109ms/step - loss: 0.0019 - val_loss: 0.0020\n",
            "Epoch 35/100\n",
            "188/188 [==============================] - 21s 109ms/step - loss: 0.0018 - val_loss: 0.0028\n",
            "Epoch 36/100\n",
            "188/188 [==============================] - 21s 110ms/step - loss: 0.0018 - val_loss: 0.0018\n",
            "Epoch 37/100\n",
            "188/188 [==============================] - 21s 109ms/step - loss: 0.0018 - val_loss: 0.0018\n",
            "Epoch 38/100\n",
            "188/188 [==============================] - 21s 109ms/step - loss: 0.0017 - val_loss: 0.0019\n",
            "Epoch 39/100\n",
            "188/188 [==============================] - 21s 110ms/step - loss: 0.0017 - val_loss: 0.0018\n",
            "Epoch 40/100\n",
            "188/188 [==============================] - 21s 110ms/step - loss: 0.0017 - val_loss: 0.0020\n",
            "Epoch 41/100\n",
            "188/188 [==============================] - 21s 110ms/step - loss: 0.0016 - val_loss: 0.0018\n",
            "Epoch 42/100\n",
            "188/188 [==============================] - 21s 109ms/step - loss: 0.0016 - val_loss: 0.0020\n",
            "Epoch 43/100\n",
            "188/188 [==============================] - 21s 109ms/step - loss: 0.0016 - val_loss: 0.0019\n",
            "Epoch 44/100\n",
            "188/188 [==============================] - 21s 109ms/step - loss: 0.0016 - val_loss: 0.0017\n",
            "Epoch 45/100\n",
            "188/188 [==============================] - 21s 109ms/step - loss: 0.0015 - val_loss: 0.0028\n",
            "Epoch 46/100\n",
            "188/188 [==============================] - 21s 110ms/step - loss: 0.0015 - val_loss: 0.0017\n",
            "Epoch 47/100\n",
            "188/188 [==============================] - 21s 110ms/step - loss: 0.0015 - val_loss: 0.0016\n",
            "Epoch 48/100\n",
            "188/188 [==============================] - 21s 109ms/step - loss: 0.0015 - val_loss: 0.0022\n",
            "Epoch 49/100\n",
            "188/188 [==============================] - 21s 110ms/step - loss: 0.0014 - val_loss: 0.0016\n",
            "Epoch 50/100\n",
            "188/188 [==============================] - 21s 109ms/step - loss: 0.0014 - val_loss: 0.0018\n",
            "Epoch 51/100\n",
            "188/188 [==============================] - 21s 110ms/step - loss: 0.0014 - val_loss: 0.0017\n",
            "Epoch 52/100\n",
            "188/188 [==============================] - 21s 110ms/step - loss: 0.0014 - val_loss: 0.0018\n",
            "Epoch 53/100\n",
            "188/188 [==============================] - 21s 109ms/step - loss: 0.0014 - val_loss: 0.0018\n",
            "Epoch 54/100\n",
            "188/188 [==============================] - 21s 110ms/step - loss: 0.0014 - val_loss: 0.0018\n",
            "Epoch 55/100\n",
            "188/188 [==============================] - 21s 109ms/step - loss: 0.0014 - val_loss: 0.0016\n",
            "Epoch 56/100\n",
            "188/188 [==============================] - 21s 110ms/step - loss: 0.0013 - val_loss: 0.0018\n",
            "Epoch 57/100\n",
            "188/188 [==============================] - 21s 110ms/step - loss: 0.0013 - val_loss: 0.0013\n",
            "Epoch 58/100\n",
            "188/188 [==============================] - 21s 110ms/step - loss: 0.0013 - val_loss: 0.0015\n",
            "Epoch 59/100\n",
            "188/188 [==============================] - 21s 109ms/step - loss: 0.0013 - val_loss: 0.0016\n",
            "Epoch 60/100\n",
            "188/188 [==============================] - 21s 110ms/step - loss: 0.0013 - val_loss: 0.0016\n",
            "Epoch 61/100\n",
            "188/188 [==============================] - 21s 110ms/step - loss: 0.0013 - val_loss: 0.0017\n",
            "Epoch 62/100\n",
            "188/188 [==============================] - 21s 110ms/step - loss: 0.0012 - val_loss: 0.0014\n",
            "Epoch 63/100\n",
            "188/188 [==============================] - 21s 110ms/step - loss: 0.0012 - val_loss: 0.0015\n",
            "Epoch 64/100\n",
            "188/188 [==============================] - 21s 110ms/step - loss: 0.0012 - val_loss: 0.0015\n",
            "Epoch 65/100\n",
            "188/188 [==============================] - 21s 110ms/step - loss: 0.0012 - val_loss: 0.0018\n",
            "Epoch 66/100\n",
            "188/188 [==============================] - 21s 110ms/step - loss: 0.0012 - val_loss: 0.0017\n",
            "Epoch 67/100\n",
            "188/188 [==============================] - 21s 110ms/step - loss: 0.0012 - val_loss: 0.0014\n",
            "Epoch 68/100\n",
            "188/188 [==============================] - 21s 110ms/step - loss: 0.0012 - val_loss: 0.0014\n",
            "Epoch 69/100\n",
            "188/188 [==============================] - 21s 110ms/step - loss: 0.0011 - val_loss: 0.0015\n",
            "Epoch 70/100\n",
            "188/188 [==============================] - 21s 110ms/step - loss: 0.0012 - val_loss: 0.0013\n",
            "Epoch 71/100\n",
            "188/188 [==============================] - 21s 110ms/step - loss: 0.0011 - val_loss: 0.0013\n",
            "Epoch 72/100\n",
            "188/188 [==============================] - 21s 110ms/step - loss: 0.0011 - val_loss: 0.0011\n",
            "Epoch 73/100\n",
            "188/188 [==============================] - 21s 110ms/step - loss: 0.0011 - val_loss: 0.0020\n",
            "Epoch 74/100\n",
            "188/188 [==============================] - 21s 110ms/step - loss: 0.0011 - val_loss: 0.0019\n",
            "Epoch 75/100\n",
            "188/188 [==============================] - 21s 110ms/step - loss: 0.0011 - val_loss: 0.0013\n",
            "Epoch 76/100\n",
            "188/188 [==============================] - 21s 110ms/step - loss: 0.0011 - val_loss: 0.0013\n",
            "Epoch 77/100\n",
            "188/188 [==============================] - 21s 110ms/step - loss: 0.0011 - val_loss: 0.0013\n",
            "Epoch 78/100\n",
            "188/188 [==============================] - 21s 110ms/step - loss: 0.0011 - val_loss: 0.0013\n",
            "Epoch 79/100\n",
            "188/188 [==============================] - 21s 110ms/step - loss: 0.0010 - val_loss: 0.0012\n",
            "Epoch 80/100\n",
            "188/188 [==============================] - 21s 110ms/step - loss: 0.0010 - val_loss: 0.0014\n",
            "Epoch 81/100\n",
            "188/188 [==============================] - 21s 110ms/step - loss: 0.0010 - val_loss: 0.0014\n",
            "Epoch 82/100\n",
            "188/188 [==============================] - 21s 110ms/step - loss: 0.0010 - val_loss: 0.0014\n",
            "Epoch 83/100\n",
            "188/188 [==============================] - 21s 110ms/step - loss: 0.0010 - val_loss: 0.0015\n",
            "Epoch 84/100\n",
            "188/188 [==============================] - 21s 109ms/step - loss: 0.0010 - val_loss: 0.0016\n",
            "Epoch 85/100\n",
            "188/188 [==============================] - 21s 110ms/step - loss: 0.0010 - val_loss: 0.0012\n",
            "Epoch 86/100\n",
            "188/188 [==============================] - 21s 109ms/step - loss: 9.9812e-04 - val_loss: 0.0012\n",
            "Epoch 87/100\n",
            "188/188 [==============================] - 21s 110ms/step - loss: 9.9200e-04 - val_loss: 0.0013\n",
            "Epoch 88/100\n",
            "188/188 [==============================] - 21s 109ms/step - loss: 9.8821e-04 - val_loss: 0.0048\n",
            "Epoch 89/100\n",
            "188/188 [==============================] - 21s 110ms/step - loss: 9.8153e-04 - val_loss: 0.0012\n",
            "Epoch 90/100\n",
            "188/188 [==============================] - 21s 110ms/step - loss: 9.6621e-04 - val_loss: 0.0011\n",
            "Epoch 91/100\n",
            "188/188 [==============================] - 21s 110ms/step - loss: 9.5735e-04 - val_loss: 0.0012\n",
            "Epoch 92/100\n",
            "188/188 [==============================] - 21s 110ms/step - loss: 9.5362e-04 - val_loss: 0.0011\n",
            "Epoch 93/100\n",
            "188/188 [==============================] - 21s 110ms/step - loss: 9.4834e-04 - val_loss: 0.0013\n",
            "Epoch 94/100\n",
            "188/188 [==============================] - 21s 110ms/step - loss: 9.4481e-04 - val_loss: 0.0014\n",
            "Epoch 95/100\n",
            "188/188 [==============================] - 21s 109ms/step - loss: 9.3831e-04 - val_loss: 0.0012\n",
            "Epoch 96/100\n",
            "188/188 [==============================] - 21s 110ms/step - loss: 9.2940e-04 - val_loss: 0.0016\n",
            "Epoch 97/100\n",
            "188/188 [==============================] - 21s 110ms/step - loss: 9.2185e-04 - val_loss: 0.0022\n",
            "Epoch 98/100\n",
            "188/188 [==============================] - 21s 110ms/step - loss: 9.0831e-04 - val_loss: 0.0013\n",
            "Epoch 99/100\n",
            "188/188 [==============================] - 21s 110ms/step - loss: 9.1051e-04 - val_loss: 0.0012\n",
            "Epoch 100/100\n",
            "188/188 [==============================] - 21s 110ms/step - loss: 9.0362e-04 - val_loss: 0.0011\n"
          ],
          "name": "stdout"
        }
      ]
    },
    {
      "cell_type": "markdown",
      "metadata": {
        "id": "JU1d7hHFHrrF"
      },
      "source": [
        "Plot the loss plot between training and validation data to visualize the model performance."
      ]
    },
    {
      "cell_type": "code",
      "metadata": {
        "colab": {
          "base_uri": "https://localhost:8080/",
          "height": 281
        },
        "id": "PQVQXgNOHrrG",
        "outputId": "742d4977-2843-4d7d-8bd8-6abbddcdaa33"
      },
      "source": [
        "loss = autoencoder_train.history['loss']\n",
        "val_loss = autoencoder_train.history['val_loss']\n",
        "epochs = range(100)\n",
        "plt.figure()\n",
        "plt.plot(epochs, loss, 'bo', label='Training loss')\n",
        "plt.plot(epochs, val_loss, 'b', label='Validation loss')\n",
        "plt.title('Training and validation loss')\n",
        "plt.legend()\n",
        "plt.show()"
      ],
      "execution_count": 28,
      "outputs": [
        {
          "output_type": "display_data",
          "data": {
            "image/png": "[encoded data removed]",
            "text/plain": [
              "<Figure size 432x288 with 1 Axes>"
            ]
          },
          "metadata": {
            "tags": [],
            "needs_background": "light"
          }
        }
      ]
    },
    {
      "cell_type": "markdown",
      "metadata": {
        "id": "E3lFxRdsHrrL"
      },
      "source": [
        "Save the Model"
      ]
    },
    {
      "cell_type": "code",
      "metadata": {
        "colab": {
          "base_uri": "https://localhost:8080/"
        },
        "id": "ZN7P1EyUHrrM",
        "outputId": "715106b0-7ce1-4a9f-9c55-03e90a78a089"
      },
      "source": [
        "autoencoder.save_weights('autoencoder.h5')\n",
        "autoencoder.save('autoencoder')"
      ],
      "execution_count": 29,
      "outputs": [
        {
          "output_type": "stream",
          "text": [
            "WARNING:tensorflow:From /usr/local/lib/python3.6/dist-packages/tensorflow/python/training/tracking/tracking.py:111: Model.state_updates (from tensorflow.python.keras.engine.training) is deprecated and will be removed in a future version.\n",
            "Instructions for updating:\n",
            "This property should not be used in TensorFlow 2.0, as updates are applied automatically.\n",
            "WARNING:tensorflow:From /usr/local/lib/python3.6/dist-packages/tensorflow/python/training/tracking/tracking.py:111: Layer.updates (from tensorflow.python.keras.engine.base_layer) is deprecated and will be removed in a future version.\n",
            "Instructions for updating:\n",
            "This property should not be used in TensorFlow 2.0, as updates are applied automatically.\n",
            "INFO:tensorflow:Assets written to: autoencoder/assets\n"
          ],
          "name": "stdout"
        }
      ]
    },
    {
      "cell_type": "code",
      "metadata": {
        "colab": {
          "base_uri": "https://localhost:8080/"
        },
        "id": "3if_TZrhHrrW",
        "outputId": "e2c08f59-2953-4777-ebec-5ea8217a17ca"
      },
      "source": [
        "# Change the labels from categorical to one-hot encoding\n",
        "train_Y_one_hot = to_categorical(train_labels)\n",
        "test_Y_one_hot = to_categorical(test_labels)\n",
        "\n",
        "# Display the change for category label using one-hot encoding\n",
        "print('Original label:', train_labels[0])\n",
        "print('After conversion to one-hot:', train_Y_one_hot[0])\n"
      ],
      "execution_count": 30,
      "outputs": [
        {
          "output_type": "stream",
          "text": [
            "Original label: 5\n",
            "After conversion to one-hot: [0. 0. 0. 0. 0. 1. 0. 0. 0. 0.]\n"
          ],
          "name": "stdout"
        }
      ]
    },
    {
      "cell_type": "markdown",
      "metadata": {
        "id": "wn1R8PqjHrrb"
      },
      "source": [
        "Split the data into training and validation for classification."
      ]
    },
    {
      "cell_type": "code",
      "metadata": {
        "id": "pwtoRDCmHrrc"
      },
      "source": [
        "train_X,valid_X,train_label,valid_label = train_test_split(train_data,train_Y_one_hot,test_size=0.2,random_state=13)"
      ],
      "execution_count": 31,
      "outputs": []
    },
    {
      "cell_type": "markdown",
      "metadata": {
        "id": "h8TZAddzHrrh"
      },
      "source": [
        "Define the classification model"
      ]
    },
    {
      "cell_type": "markdown",
      "metadata": {
        "id": "2aSdELMpHrri"
      },
      "source": [
        "Define the fully connected layers that we will be stacking up with the encoder function."
      ]
    },
    {
      "cell_type": "code",
      "metadata": {
        "id": "dLI5BFbpHrrj"
      },
      "source": [
        "def fc(enco):\n",
        "    flat = Flatten()(enco)\n",
        "    den = Dense(128, activation='relu')(flat)\n",
        "    out = Dense(num_classes, activation='softmax')(den)\n",
        "    return out"
      ],
      "execution_count": 32,
      "outputs": []
    },
    {
      "cell_type": "code",
      "metadata": {
        "id": "SxoBnwaHHrrn"
      },
      "source": [
        "encode = encoder(input_img)\n",
        "full_model = Model(input_img,fc(encode))\n",
        "\n",
        "for l1,l2 in zip(full_model.layers[:19],autoencoder.layers[0:19]):\n",
        "    l1.set_weights(l2.get_weights())"
      ],
      "execution_count": 33,
      "outputs": []
    },
    {
      "cell_type": "markdown",
      "metadata": {
        "id": "_PoZ5IYgHrrs"
      },
      "source": [
        "\n",
        "Print the weigths of the encoder part of the autoencoder and the weights we loaded to the encoder function of the classification model,to make sure they are similiar\n"
      ]
    },
    {
      "cell_type": "code",
      "metadata": {
        "colab": {
          "base_uri": "https://localhost:8080/"
        },
        "id": "bt1ShGlPHrru",
        "outputId": "2a4aa717-7bb7-439d-f887-c533cee4dac3"
      },
      "source": [
        "autoencoder.get_weights()[0][1]"
      ],
      "execution_count": 34,
      "outputs": [
        {
          "output_type": "execute_result",
          "data": {
            "text/plain": [
              "array([[[ 0.01326538,  0.05111954,  0.07798465, -0.2040455 ,\n",
              "         -0.04614031,  0.03693153,  0.1330857 , -0.19012187,\n",
              "          0.1473141 ,  0.02598264, -0.01397217,  0.2313203 ,\n",
              "          0.10932448, -0.19449852,  0.2078724 , -0.0604379 ,\n",
              "          0.03515921,  0.07322516, -0.16371928,  0.29997274,\n",
              "          0.08726493,  0.02256622,  0.0207953 ,  0.12045008,\n",
              "         -0.02659151, -0.08498931,  0.0022106 , -0.05190343,\n",
              "          0.180119  , -0.01209491, -0.02642625, -0.00718168]],\n",
              "\n",
              "       [[-0.03372496, -0.02386622, -0.03782235, -0.07968414,\n",
              "         -0.03008815, -0.08287616,  0.03398599, -0.8800927 ,\n",
              "         -0.12517817, -0.07500699, -0.06717091, -0.05059412,\n",
              "          0.01924538, -0.02456672,  0.3336961 , -0.09250865,\n",
              "         -0.01218271,  0.07550274, -0.01826648,  0.11721666,\n",
              "          0.18684097,  0.01007517, -0.19389322, -0.08192933,\n",
              "          0.09109673, -0.01009991,  0.04815964,  0.13427566,\n",
              "          0.14950304, -0.07709581, -0.07527935,  0.09557661]],\n",
              "\n",
              "       [[ 0.16567764,  0.10186782,  0.13660268,  0.17011751,\n",
              "          0.11196529, -0.07920139, -0.11954492, -0.12634334,\n",
              "          0.04312875,  0.09161182, -0.07002713,  0.09486781,\n",
              "         -0.01674613,  0.13387458,  0.09268937,  0.07114588,\n",
              "          0.01624689, -0.17918149, -0.14059156, -0.06049198,\n",
              "         -0.14477193,  0.01341611,  0.1521541 ,  0.02188598,\n",
              "         -0.12322643,  0.02088652, -0.15687278,  0.02372718,\n",
              "         -0.05972176,  0.11318767,  0.18352197, -0.03333207]]],\n",
              "      dtype=float32)"
            ]
          },
          "metadata": {
            "tags": []
          },
          "execution_count": 34
        }
      ]
    },
    {
      "cell_type": "code",
      "metadata": {
        "colab": {
          "base_uri": "https://localhost:8080/"
        },
        "id": "khhne4sjHrrz",
        "outputId": "701223e5-4e10-4130-925f-a24f5fd6386e"
      },
      "source": [
        "full_model.get_weights()[0][1]"
      ],
      "execution_count": 35,
      "outputs": [
        {
          "output_type": "execute_result",
          "data": {
            "text/plain": [
              "array([[[ 0.01326538,  0.05111954,  0.07798465, -0.2040455 ,\n",
              "         -0.04614031,  0.03693153,  0.1330857 , -0.19012187,\n",
              "          0.1473141 ,  0.02598264, -0.01397217,  0.2313203 ,\n",
              "          0.10932448, -0.19449852,  0.2078724 , -0.0604379 ,\n",
              "          0.03515921,  0.07322516, -0.16371928,  0.29997274,\n",
              "          0.08726493,  0.02256622,  0.0207953 ,  0.12045008,\n",
              "         -0.02659151, -0.08498931,  0.0022106 , -0.05190343,\n",
              "          0.180119  , -0.01209491, -0.02642625, -0.00718168]],\n",
              "\n",
              "       [[-0.03372496, -0.02386622, -0.03782235, -0.07968414,\n",
              "         -0.03008815, -0.08287616,  0.03398599, -0.8800927 ,\n",
              "         -0.12517817, -0.07500699, -0.06717091, -0.05059412,\n",
              "          0.01924538, -0.02456672,  0.3336961 , -0.09250865,\n",
              "         -0.01218271,  0.07550274, -0.01826648,  0.11721666,\n",
              "          0.18684097,  0.01007517, -0.19389322, -0.08192933,\n",
              "          0.09109673, -0.01009991,  0.04815964,  0.13427566,\n",
              "          0.14950304, -0.07709581, -0.07527935,  0.09557661]],\n",
              "\n",
              "       [[ 0.16567764,  0.10186782,  0.13660268,  0.17011751,\n",
              "          0.11196529, -0.07920139, -0.11954492, -0.12634334,\n",
              "          0.04312875,  0.09161182, -0.07002713,  0.09486781,\n",
              "         -0.01674613,  0.13387458,  0.09268937,  0.07114588,\n",
              "          0.01624689, -0.17918149, -0.14059156, -0.06049198,\n",
              "         -0.14477193,  0.01341611,  0.1521541 ,  0.02188598,\n",
              "         -0.12322643,  0.02088652, -0.15687278,  0.02372718,\n",
              "         -0.05972176,  0.11318767,  0.18352197, -0.03333207]]],\n",
              "      dtype=float32)"
            ]
          },
          "metadata": {
            "tags": []
          },
          "execution_count": 35
        }
      ]
    },
    {
      "cell_type": "markdown",
      "metadata": {
        "id": "X7nyf3mzHrr3"
      },
      "source": [
        "\n",
        "We make the encoder part i.e.the first nineteen layers of the model trainable false. Since the encoder part is already trained,we do not need to train it. We will only be training the Fully Connected part."
      ]
    },
    {
      "cell_type": "code",
      "metadata": {
        "id": "IQLzExNwHrr5"
      },
      "source": [
        "for layer in full_model.layers[0:19]:\n",
        "    layer.trainable = False\n"
      ],
      "execution_count": 36,
      "outputs": []
    },
    {
      "cell_type": "markdown",
      "metadata": {
        "id": "ksKSr2kcHrr-"
      },
      "source": [
        "Compile the model"
      ]
    },
    {
      "cell_type": "code",
      "metadata": {
        "id": "PpeRquzjHrr_"
      },
      "source": [
        "full_model.compile(loss=keras.losses.categorical_crossentropy, optimizer=keras.optimizers.Adam(),metrics=['accuracy'])"
      ],
      "execution_count": 37,
      "outputs": []
    },
    {
      "cell_type": "code",
      "metadata": {
        "colab": {
          "base_uri": "https://localhost:8080/"
        },
        "id": "9eSKY9wgHrsE",
        "outputId": "a1958e89-c801-406b-881d-8bf780ec5ee2"
      },
      "source": [
        "full_model.summary()"
      ],
      "execution_count": 38,
      "outputs": [
        {
          "output_type": "stream",
          "text": [
            "Model: \"functional_3\"\n",
            "_________________________________________________________________\n",
            "Layer (type)                 Output Shape              Param #   \n",
            "=================================================================\n",
            "input_1 (InputLayer)         [(None, 28, 28, 1)]       0         \n",
            "_________________________________________________________________\n",
            "conv2d_15 (Conv2D)           (None, 28, 28, 32)        320       \n",
            "_________________________________________________________________\n",
            "batch_normalization_14 (Batc (None, 28, 28, 32)        128       \n",
            "_________________________________________________________________\n",
            "conv2d_16 (Conv2D)           (None, 28, 28, 32)        9248      \n",
            "_________________________________________________________________\n",
            "batch_normalization_15 (Batc (None, 28, 28, 32)        128       \n",
            "_________________________________________________________________\n",
            "max_pooling2d_2 (MaxPooling2 (None, 14, 14, 32)        0         \n",
            "_________________________________________________________________\n",
            "conv2d_17 (Conv2D)           (None, 14, 14, 64)        18496     \n",
            "_________________________________________________________________\n",
            "batch_normalization_16 (Batc (None, 14, 14, 64)        256       \n",
            "_________________________________________________________________\n",
            "conv2d_18 (Conv2D)           (None, 14, 14, 64)        36928     \n",
            "_________________________________________________________________\n",
            "batch_normalization_17 (Batc (None, 14, 14, 64)        256       \n",
            "_________________________________________________________________\n",
            "max_pooling2d_3 (MaxPooling2 (None, 7, 7, 64)          0         \n",
            "_________________________________________________________________\n",
            "conv2d_19 (Conv2D)           (None, 7, 7, 128)         73856     \n",
            "_________________________________________________________________\n",
            "batch_normalization_18 (Batc (None, 7, 7, 128)         512       \n",
            "_________________________________________________________________\n",
            "conv2d_20 (Conv2D)           (None, 7, 7, 128)         147584    \n",
            "_________________________________________________________________\n",
            "batch_normalization_19 (Batc (None, 7, 7, 128)         512       \n",
            "_________________________________________________________________\n",
            "conv2d_21 (Conv2D)           (None, 7, 7, 256)         295168    \n",
            "_________________________________________________________________\n",
            "batch_normalization_20 (Batc (None, 7, 7, 256)         1024      \n",
            "_________________________________________________________________\n",
            "conv2d_22 (Conv2D)           (None, 7, 7, 256)         590080    \n",
            "_________________________________________________________________\n",
            "batch_normalization_21 (Batc (None, 7, 7, 256)         1024      \n",
            "_________________________________________________________________\n",
            "flatten (Flatten)            (None, 12544)             0         \n",
            "_________________________________________________________________\n",
            "dense (Dense)                (None, 128)               1605760   \n",
            "_________________________________________________________________\n",
            "dense_1 (Dense)              (None, 10)                1290      \n",
            "=================================================================\n",
            "Total params: 2,782,570\n",
            "Trainable params: 1,607,050\n",
            "Non-trainable params: 1,175,520\n",
            "_________________________________________________________________\n"
          ],
          "name": "stdout"
        }
      ]
    },
    {
      "cell_type": "markdown",
      "metadata": {
        "id": "bVw-nVCWHrsK"
      },
      "source": [
        "Train the Model\n",
        "\n"
      ]
    },
    {
      "cell_type": "code",
      "metadata": {
        "colab": {
          "base_uri": "https://localhost:8080/"
        },
        "id": "5fEExuSjHrsL",
        "outputId": "350428eb-7cb8-4151-d289-eb4207c9a2ce"
      },
      "source": [
        "classify_train = full_model.fit(train_X, train_label, batch_size=256,epochs=100,verbose=1,validation_data=(valid_X, valid_label))"
      ],
      "execution_count": 39,
      "outputs": [
        {
          "output_type": "stream",
          "text": [
            "Epoch 1/100\n",
            "188/188 [==============================] - 4s 22ms/step - loss: 0.1998 - accuracy: 0.9396 - val_loss: 0.0914 - val_accuracy: 0.9723\n",
            "Epoch 2/100\n",
            "188/188 [==============================] - 4s 20ms/step - loss: 0.0557 - accuracy: 0.9845 - val_loss: 0.0757 - val_accuracy: 0.9778\n",
            "Epoch 3/100\n",
            "188/188 [==============================] - 4s 20ms/step - loss: 0.0293 - accuracy: 0.9923 - val_loss: 0.0663 - val_accuracy: 0.9804\n",
            "Epoch 4/100\n",
            "188/188 [==============================] - 4s 20ms/step - loss: 0.0176 - accuracy: 0.9959 - val_loss: 0.0641 - val_accuracy: 0.9808\n",
            "Epoch 5/100\n",
            "188/188 [==============================] - 4s 20ms/step - loss: 0.0096 - accuracy: 0.9984 - val_loss: 0.0597 - val_accuracy: 0.9818\n",
            "Epoch 6/100\n",
            "188/188 [==============================] - 4s 20ms/step - loss: 0.0051 - accuracy: 0.9996 - val_loss: 0.0598 - val_accuracy: 0.9822\n",
            "Epoch 7/100\n",
            "188/188 [==============================] - 4s 20ms/step - loss: 0.0031 - accuracy: 0.9998 - val_loss: 0.0583 - val_accuracy: 0.9833\n",
            "Epoch 8/100\n",
            "188/188 [==============================] - 4s 20ms/step - loss: 0.0022 - accuracy: 0.9999 - val_loss: 0.0583 - val_accuracy: 0.9841\n",
            "Epoch 9/100\n",
            "188/188 [==============================] - 4s 20ms/step - loss: 0.0033 - accuracy: 0.9995 - val_loss: 0.0589 - val_accuracy: 0.9834\n",
            "Epoch 10/100\n",
            "188/188 [==============================] - 4s 20ms/step - loss: 0.0014 - accuracy: 0.9999 - val_loss: 0.0627 - val_accuracy: 0.9829\n",
            "Epoch 11/100\n",
            "188/188 [==============================] - 4s 20ms/step - loss: 9.1716e-04 - accuracy: 1.0000 - val_loss: 0.0602 - val_accuracy: 0.9837\n",
            "Epoch 12/100\n",
            "188/188 [==============================] - 4s 20ms/step - loss: 6.2016e-04 - accuracy: 1.0000 - val_loss: 0.0609 - val_accuracy: 0.9843\n",
            "Epoch 13/100\n",
            "188/188 [==============================] - 4s 20ms/step - loss: 4.9384e-04 - accuracy: 1.0000 - val_loss: 0.0607 - val_accuracy: 0.9842\n",
            "Epoch 14/100\n",
            "188/188 [==============================] - 4s 20ms/step - loss: 4.2944e-04 - accuracy: 1.0000 - val_loss: 0.0614 - val_accuracy: 0.9842\n",
            "Epoch 15/100\n",
            "188/188 [==============================] - 4s 20ms/step - loss: 3.6715e-04 - accuracy: 1.0000 - val_loss: 0.0617 - val_accuracy: 0.9842\n",
            "Epoch 16/100\n",
            "188/188 [==============================] - 4s 20ms/step - loss: 3.2251e-04 - accuracy: 1.0000 - val_loss: 0.0622 - val_accuracy: 0.9844\n",
            "Epoch 17/100\n",
            "188/188 [==============================] - 4s 20ms/step - loss: 2.7993e-04 - accuracy: 1.0000 - val_loss: 0.0628 - val_accuracy: 0.9846\n",
            "Epoch 18/100\n",
            "188/188 [==============================] - 4s 20ms/step - loss: 2.4726e-04 - accuracy: 1.0000 - val_loss: 0.0634 - val_accuracy: 0.9845\n",
            "Epoch 19/100\n",
            "188/188 [==============================] - 4s 20ms/step - loss: 2.1739e-04 - accuracy: 1.0000 - val_loss: 0.0633 - val_accuracy: 0.9842\n",
            "Epoch 20/100\n",
            "188/188 [==============================] - 4s 20ms/step - loss: 1.9078e-04 - accuracy: 1.0000 - val_loss: 0.0644 - val_accuracy: 0.9845\n",
            "Epoch 21/100\n",
            "188/188 [==============================] - 4s 20ms/step - loss: 1.6906e-04 - accuracy: 1.0000 - val_loss: 0.0643 - val_accuracy: 0.9846\n",
            "Epoch 22/100\n",
            "188/188 [==============================] - 4s 20ms/step - loss: 1.5143e-04 - accuracy: 1.0000 - val_loss: 0.0655 - val_accuracy: 0.9843\n",
            "Epoch 23/100\n",
            "188/188 [==============================] - 4s 20ms/step - loss: 1.3276e-04 - accuracy: 1.0000 - val_loss: 0.0653 - val_accuracy: 0.9847\n",
            "Epoch 24/100\n",
            "188/188 [==============================] - 4s 20ms/step - loss: 1.1809e-04 - accuracy: 1.0000 - val_loss: 0.0660 - val_accuracy: 0.9842\n",
            "Epoch 25/100\n",
            "188/188 [==============================] - 4s 20ms/step - loss: 1.0515e-04 - accuracy: 1.0000 - val_loss: 0.0664 - val_accuracy: 0.9843\n",
            "Epoch 26/100\n",
            "188/188 [==============================] - 4s 20ms/step - loss: 9.3335e-05 - accuracy: 1.0000 - val_loss: 0.0672 - val_accuracy: 0.9844\n",
            "Epoch 27/100\n",
            "188/188 [==============================] - 4s 20ms/step - loss: 8.3277e-05 - accuracy: 1.0000 - val_loss: 0.0671 - val_accuracy: 0.9846\n",
            "Epoch 28/100\n",
            "188/188 [==============================] - 4s 20ms/step - loss: 7.4605e-05 - accuracy: 1.0000 - val_loss: 0.0681 - val_accuracy: 0.9843\n",
            "Epoch 29/100\n",
            "188/188 [==============================] - 4s 20ms/step - loss: 6.7194e-05 - accuracy: 1.0000 - val_loss: 0.0686 - val_accuracy: 0.9846\n",
            "Epoch 30/100\n",
            "188/188 [==============================] - 4s 20ms/step - loss: 5.9269e-05 - accuracy: 1.0000 - val_loss: 0.0688 - val_accuracy: 0.9846\n",
            "Epoch 31/100\n",
            "188/188 [==============================] - 4s 21ms/step - loss: 5.3359e-05 - accuracy: 1.0000 - val_loss: 0.0694 - val_accuracy: 0.9846\n",
            "Epoch 32/100\n",
            "188/188 [==============================] - 4s 21ms/step - loss: 4.7332e-05 - accuracy: 1.0000 - val_loss: 0.0697 - val_accuracy: 0.9846\n",
            "Epoch 33/100\n",
            "188/188 [==============================] - 4s 20ms/step - loss: 4.2701e-05 - accuracy: 1.0000 - val_loss: 0.0702 - val_accuracy: 0.9845\n",
            "Epoch 34/100\n",
            "188/188 [==============================] - 4s 20ms/step - loss: 3.8148e-05 - accuracy: 1.0000 - val_loss: 0.0710 - val_accuracy: 0.9848\n",
            "Epoch 35/100\n",
            "188/188 [==============================] - 4s 20ms/step - loss: 3.4507e-05 - accuracy: 1.0000 - val_loss: 0.0713 - val_accuracy: 0.9844\n",
            "Epoch 36/100\n",
            "188/188 [==============================] - 4s 20ms/step - loss: 3.0994e-05 - accuracy: 1.0000 - val_loss: 0.0720 - val_accuracy: 0.9846\n",
            "Epoch 37/100\n",
            "188/188 [==============================] - 4s 20ms/step - loss: 2.7691e-05 - accuracy: 1.0000 - val_loss: 0.0727 - val_accuracy: 0.9845\n",
            "Epoch 38/100\n",
            "188/188 [==============================] - 4s 21ms/step - loss: 2.4948e-05 - accuracy: 1.0000 - val_loss: 0.0736 - val_accuracy: 0.9849\n",
            "Epoch 39/100\n",
            "188/188 [==============================] - 4s 21ms/step - loss: 2.2191e-05 - accuracy: 1.0000 - val_loss: 0.0733 - val_accuracy: 0.9847\n",
            "Epoch 40/100\n",
            "188/188 [==============================] - 4s 20ms/step - loss: 2.0051e-05 - accuracy: 1.0000 - val_loss: 0.0739 - val_accuracy: 0.9848\n",
            "Epoch 41/100\n",
            "188/188 [==============================] - 4s 20ms/step - loss: 1.8010e-05 - accuracy: 1.0000 - val_loss: 0.0742 - val_accuracy: 0.9846\n",
            "Epoch 42/100\n",
            "188/188 [==============================] - 4s 20ms/step - loss: 1.6136e-05 - accuracy: 1.0000 - val_loss: 0.0752 - val_accuracy: 0.9845\n",
            "Epoch 43/100\n",
            "188/188 [==============================] - 4s 20ms/step - loss: 1.4476e-05 - accuracy: 1.0000 - val_loss: 0.0761 - val_accuracy: 0.9843\n",
            "Epoch 44/100\n",
            "188/188 [==============================] - 4s 20ms/step - loss: 1.3190e-05 - accuracy: 1.0000 - val_loss: 0.0760 - val_accuracy: 0.9847\n",
            "Epoch 45/100\n",
            "188/188 [==============================] - 4s 20ms/step - loss: 1.1878e-05 - accuracy: 1.0000 - val_loss: 0.0763 - val_accuracy: 0.9847\n",
            "Epoch 46/100\n",
            "188/188 [==============================] - 4s 20ms/step - loss: 1.0620e-05 - accuracy: 1.0000 - val_loss: 0.0770 - val_accuracy: 0.9847\n",
            "Epoch 47/100\n",
            "188/188 [==============================] - 4s 20ms/step - loss: 9.4897e-06 - accuracy: 1.0000 - val_loss: 0.0776 - val_accuracy: 0.9846\n",
            "Epoch 48/100\n",
            "188/188 [==============================] - 4s 20ms/step - loss: 8.6253e-06 - accuracy: 1.0000 - val_loss: 0.0781 - val_accuracy: 0.9848\n",
            "Epoch 49/100\n",
            "188/188 [==============================] - 4s 20ms/step - loss: 7.7368e-06 - accuracy: 1.0000 - val_loss: 0.0792 - val_accuracy: 0.9845\n",
            "Epoch 50/100\n",
            "188/188 [==============================] - 4s 20ms/step - loss: 6.9392e-06 - accuracy: 1.0000 - val_loss: 0.0788 - val_accuracy: 0.9851\n",
            "Epoch 51/100\n",
            "188/188 [==============================] - 4s 20ms/step - loss: 6.2833e-06 - accuracy: 1.0000 - val_loss: 0.0798 - val_accuracy: 0.9850\n",
            "Epoch 52/100\n",
            "188/188 [==============================] - 4s 20ms/step - loss: 5.6549e-06 - accuracy: 1.0000 - val_loss: 0.0805 - val_accuracy: 0.9848\n",
            "Epoch 53/100\n",
            "188/188 [==============================] - 4s 20ms/step - loss: 5.1221e-06 - accuracy: 1.0000 - val_loss: 0.0808 - val_accuracy: 0.9851\n",
            "Epoch 54/100\n",
            "188/188 [==============================] - 4s 20ms/step - loss: 4.6178e-06 - accuracy: 1.0000 - val_loss: 0.0814 - val_accuracy: 0.9847\n",
            "Epoch 55/100\n",
            "188/188 [==============================] - 4s 20ms/step - loss: 4.1780e-06 - accuracy: 1.0000 - val_loss: 0.0820 - val_accuracy: 0.9849\n",
            "Epoch 56/100\n",
            "188/188 [==============================] - 4s 20ms/step - loss: 3.7740e-06 - accuracy: 1.0000 - val_loss: 0.0825 - val_accuracy: 0.9848\n",
            "Epoch 57/100\n",
            "188/188 [==============================] - 4s 20ms/step - loss: 3.4107e-06 - accuracy: 1.0000 - val_loss: 0.0831 - val_accuracy: 0.9847\n",
            "Epoch 58/100\n",
            "188/188 [==============================] - 4s 20ms/step - loss: 3.0751e-06 - accuracy: 1.0000 - val_loss: 0.0830 - val_accuracy: 0.9849\n",
            "Epoch 59/100\n",
            "188/188 [==============================] - 4s 20ms/step - loss: 2.7802e-06 - accuracy: 1.0000 - val_loss: 0.0840 - val_accuracy: 0.9849\n",
            "Epoch 60/100\n",
            "188/188 [==============================] - 4s 20ms/step - loss: 2.5314e-06 - accuracy: 1.0000 - val_loss: 0.0843 - val_accuracy: 0.9847\n",
            "Epoch 61/100\n",
            "188/188 [==============================] - 4s 20ms/step - loss: 2.2828e-06 - accuracy: 1.0000 - val_loss: 0.0851 - val_accuracy: 0.9845\n",
            "Epoch 62/100\n",
            "188/188 [==============================] - 4s 20ms/step - loss: 2.0627e-06 - accuracy: 1.0000 - val_loss: 0.0859 - val_accuracy: 0.9847\n",
            "Epoch 63/100\n",
            "188/188 [==============================] - 4s 20ms/step - loss: 1.8811e-06 - accuracy: 1.0000 - val_loss: 0.0860 - val_accuracy: 0.9847\n",
            "Epoch 64/100\n",
            "188/188 [==============================] - 4s 20ms/step - loss: 1.6932e-06 - accuracy: 1.0000 - val_loss: 0.0865 - val_accuracy: 0.9847\n",
            "Epoch 65/100\n",
            "188/188 [==============================] - 4s 20ms/step - loss: 1.5486e-06 - accuracy: 1.0000 - val_loss: 0.0875 - val_accuracy: 0.9847\n",
            "Epoch 66/100\n",
            "188/188 [==============================] - 4s 20ms/step - loss: 1.3927e-06 - accuracy: 1.0000 - val_loss: 0.0877 - val_accuracy: 0.9847\n",
            "Epoch 67/100\n",
            "188/188 [==============================] - 4s 20ms/step - loss: 1.2747e-06 - accuracy: 1.0000 - val_loss: 0.0883 - val_accuracy: 0.9847\n",
            "Epoch 68/100\n",
            "188/188 [==============================] - 4s 20ms/step - loss: 1.1523e-06 - accuracy: 1.0000 - val_loss: 0.0891 - val_accuracy: 0.9847\n",
            "Epoch 69/100\n",
            "188/188 [==============================] - 4s 20ms/step - loss: 1.0481e-06 - accuracy: 1.0000 - val_loss: 0.0893 - val_accuracy: 0.9847\n",
            "Epoch 70/100\n",
            "188/188 [==============================] - 4s 20ms/step - loss: 9.5341e-07 - accuracy: 1.0000 - val_loss: 0.0894 - val_accuracy: 0.9849\n",
            "Epoch 71/100\n",
            "188/188 [==============================] - 4s 20ms/step - loss: 8.6105e-07 - accuracy: 1.0000 - val_loss: 0.0904 - val_accuracy: 0.9847\n",
            "Epoch 72/100\n",
            "188/188 [==============================] - 4s 20ms/step - loss: 7.9088e-07 - accuracy: 1.0000 - val_loss: 0.0907 - val_accuracy: 0.9847\n",
            "Epoch 73/100\n",
            "188/188 [==============================] - 4s 20ms/step - loss: 7.1813e-07 - accuracy: 1.0000 - val_loss: 0.0919 - val_accuracy: 0.9844\n",
            "Epoch 74/100\n",
            "188/188 [==============================] - 4s 20ms/step - loss: 6.5426e-07 - accuracy: 1.0000 - val_loss: 0.0916 - val_accuracy: 0.9849\n",
            "Epoch 75/100\n",
            "188/188 [==============================] - 4s 20ms/step - loss: 5.9901e-07 - accuracy: 1.0000 - val_loss: 0.0925 - val_accuracy: 0.9848\n",
            "Epoch 76/100\n",
            "188/188 [==============================] - 4s 20ms/step - loss: 5.4587e-07 - accuracy: 1.0000 - val_loss: 0.0925 - val_accuracy: 0.9850\n",
            "Epoch 77/100\n",
            "188/188 [==============================] - 4s 20ms/step - loss: 4.9824e-07 - accuracy: 1.0000 - val_loss: 0.0933 - val_accuracy: 0.9848\n",
            "Epoch 78/100\n",
            "188/188 [==============================] - 4s 20ms/step - loss: 4.5477e-07 - accuracy: 1.0000 - val_loss: 0.0938 - val_accuracy: 0.9849\n",
            "Epoch 79/100\n",
            "188/188 [==============================] - 4s 20ms/step - loss: 4.1641e-07 - accuracy: 1.0000 - val_loss: 0.0944 - val_accuracy: 0.9847\n",
            "Epoch 80/100\n",
            "188/188 [==============================] - 4s 20ms/step - loss: 3.8047e-07 - accuracy: 1.0000 - val_loss: 0.0948 - val_accuracy: 0.9847\n",
            "Epoch 81/100\n",
            "188/188 [==============================] - 4s 20ms/step - loss: 3.4854e-07 - accuracy: 1.0000 - val_loss: 0.0955 - val_accuracy: 0.9847\n",
            "Epoch 82/100\n",
            "188/188 [==============================] - 4s 20ms/step - loss: 3.2068e-07 - accuracy: 1.0000 - val_loss: 0.0965 - val_accuracy: 0.9845\n",
            "Epoch 83/100\n",
            "188/188 [==============================] - 4s 20ms/step - loss: 2.9345e-07 - accuracy: 1.0000 - val_loss: 0.0962 - val_accuracy: 0.9850\n",
            "Epoch 84/100\n",
            "188/188 [==============================] - 4s 20ms/step - loss: 2.7012e-07 - accuracy: 1.0000 - val_loss: 0.0967 - val_accuracy: 0.9848\n",
            "Epoch 85/100\n",
            "188/188 [==============================] - 4s 20ms/step - loss: 2.4660e-07 - accuracy: 1.0000 - val_loss: 0.0971 - val_accuracy: 0.9850\n",
            "Epoch 86/100\n",
            "188/188 [==============================] - 4s 20ms/step - loss: 2.2669e-07 - accuracy: 1.0000 - val_loss: 0.0978 - val_accuracy: 0.9846\n",
            "Epoch 87/100\n",
            "188/188 [==============================] - 4s 20ms/step - loss: 2.0801e-07 - accuracy: 1.0000 - val_loss: 0.0984 - val_accuracy: 0.9849\n",
            "Epoch 88/100\n",
            "188/188 [==============================] - 4s 20ms/step - loss: 1.9196e-07 - accuracy: 1.0000 - val_loss: 0.0987 - val_accuracy: 0.9849\n",
            "Epoch 89/100\n",
            "188/188 [==============================] - 4s 20ms/step - loss: 1.7630e-07 - accuracy: 1.0000 - val_loss: 0.0991 - val_accuracy: 0.9850\n",
            "Epoch 90/100\n",
            "188/188 [==============================] - 4s 20ms/step - loss: 1.6244e-07 - accuracy: 1.0000 - val_loss: 0.0998 - val_accuracy: 0.9849\n",
            "Epoch 91/100\n",
            "188/188 [==============================] - 4s 20ms/step - loss: 1.5011e-07 - accuracy: 1.0000 - val_loss: 0.1003 - val_accuracy: 0.9848\n",
            "Epoch 92/100\n",
            "188/188 [==============================] - 4s 20ms/step - loss: 1.3826e-07 - accuracy: 1.0000 - val_loss: 0.1005 - val_accuracy: 0.9850\n",
            "Epoch 93/100\n",
            "188/188 [==============================] - 4s 20ms/step - loss: 1.2768e-07 - accuracy: 1.0000 - val_loss: 0.1010 - val_accuracy: 0.9850\n",
            "Epoch 94/100\n",
            "188/188 [==============================] - 4s 20ms/step - loss: 1.1760e-07 - accuracy: 1.0000 - val_loss: 0.1014 - val_accuracy: 0.9848\n",
            "Epoch 95/100\n",
            "188/188 [==============================] - 4s 20ms/step - loss: 1.0868e-07 - accuracy: 1.0000 - val_loss: 0.1020 - val_accuracy: 0.9848\n",
            "Epoch 96/100\n",
            "188/188 [==============================] - 4s 20ms/step - loss: 1.0047e-07 - accuracy: 1.0000 - val_loss: 0.1025 - val_accuracy: 0.9849\n",
            "Epoch 97/100\n",
            "188/188 [==============================] - 4s 20ms/step - loss: 9.2556e-08 - accuracy: 1.0000 - val_loss: 0.1032 - val_accuracy: 0.9849\n",
            "Epoch 98/100\n",
            "188/188 [==============================] - 4s 20ms/step - loss: 8.6096e-08 - accuracy: 1.0000 - val_loss: 0.1036 - val_accuracy: 0.9850\n",
            "Epoch 99/100\n",
            "188/188 [==============================] - 4s 20ms/step - loss: 7.9428e-08 - accuracy: 1.0000 - val_loss: 0.1037 - val_accuracy: 0.9850\n",
            "Epoch 100/100\n",
            "188/188 [==============================] - 4s 20ms/step - loss: 7.3545e-08 - accuracy: 1.0000 - val_loss: 0.1041 - val_accuracy: 0.9850\n"
          ],
          "name": "stdout"
        }
      ]
    },
    {
      "cell_type": "markdown",
      "metadata": {
        "id": "O8L_moCuHrsP"
      },
      "source": [
        "Save the classification model"
      ]
    },
    {
      "cell_type": "code",
      "metadata": {
        "id": "BQLBeJ-DHrsQ"
      },
      "source": [
        "full_model.save_weights('autoencoder_classification.h5')"
      ],
      "execution_count": 40,
      "outputs": []
    },
    {
      "cell_type": "markdown",
      "metadata": {
        "id": "Kueq_f5zHrsV"
      },
      "source": [
        " Re-train the model by making the first nineteen layers trainable as True"
      ]
    },
    {
      "cell_type": "code",
      "metadata": {
        "id": "3mz-aEouHrsW"
      },
      "source": [
        "for layer in full_model.layers[0:19]:\n",
        "    layer.trainable = True\n",
        "\n",
        "    full_model.compile(loss=keras.losses.categorical_crossentropy, optimizer=keras.optimizers.Adam(),metrics=['accuracy'])"
      ],
      "execution_count": 41,
      "outputs": []
    },
    {
      "cell_type": "markdown",
      "metadata": {
        "id": "tDKfJI_MHrsb"
      },
      "source": [
        "Train the entire model for one last time"
      ]
    },
    {
      "cell_type": "code",
      "metadata": {
        "colab": {
          "base_uri": "https://localhost:8080/"
        },
        "id": "I0-oHVnSHrsc",
        "outputId": "9acbfe70-bf2e-47d7-efee-5da37e515fbe"
      },
      "source": [
        "classify_train = full_model.fit(train_X, train_label, batch_size=256,epochs=100,verbose=1,validation_data=(valid_X, valid_label))"
      ],
      "execution_count": 42,
      "outputs": [
        {
          "output_type": "stream",
          "text": [
            "Epoch 1/100\n",
            "188/188 [==============================] - 12s 62ms/step - loss: 2.0037e-08 - accuracy: 1.0000 - val_loss: 0.1136 - val_accuracy: 0.9858\n",
            "Epoch 2/100\n",
            "188/188 [==============================] - 11s 60ms/step - loss: 6.5565e-09 - accuracy: 1.0000 - val_loss: 0.1196 - val_accuracy: 0.9855\n",
            "Epoch 3/100\n",
            "188/188 [==============================] - 11s 60ms/step - loss: 3.6259e-09 - accuracy: 1.0000 - val_loss: 0.1226 - val_accuracy: 0.9852\n",
            "Epoch 4/100\n",
            "188/188 [==============================] - 11s 61ms/step - loss: 2.8114e-09 - accuracy: 1.0000 - val_loss: 0.1204 - val_accuracy: 0.9852\n",
            "Epoch 5/100\n",
            "188/188 [==============================] - 11s 60ms/step - loss: 2.1706e-09 - accuracy: 1.0000 - val_loss: 0.1225 - val_accuracy: 0.9854\n",
            "Epoch 6/100\n",
            "188/188 [==============================] - 11s 60ms/step - loss: 1.8924e-09 - accuracy: 1.0000 - val_loss: 0.1197 - val_accuracy: 0.9855\n",
            "Epoch 7/100\n",
            "188/188 [==============================] - 11s 60ms/step - loss: 1.7881e-09 - accuracy: 1.0000 - val_loss: 0.1217 - val_accuracy: 0.9852\n",
            "Epoch 8/100\n",
            "188/188 [==============================] - 11s 60ms/step - loss: 1.5845e-09 - accuracy: 1.0000 - val_loss: 0.1222 - val_accuracy: 0.9851\n",
            "Epoch 9/100\n",
            "188/188 [==============================] - 11s 60ms/step - loss: 1.3486e-09 - accuracy: 1.0000 - val_loss: 0.1215 - val_accuracy: 0.9854\n",
            "Epoch 10/100\n",
            "188/188 [==============================] - 11s 60ms/step - loss: 1.3163e-09 - accuracy: 1.0000 - val_loss: 0.1227 - val_accuracy: 0.9850\n",
            "Epoch 11/100\n",
            "188/188 [==============================] - 11s 60ms/step - loss: 1.4578e-09 - accuracy: 1.0000 - val_loss: 0.1255 - val_accuracy: 0.9849\n",
            "Epoch 12/100\n",
            "188/188 [==============================] - 11s 60ms/step - loss: 1.0779e-09 - accuracy: 1.0000 - val_loss: 0.1222 - val_accuracy: 0.9850\n",
            "Epoch 13/100\n",
            "188/188 [==============================] - 11s 60ms/step - loss: 1.1077e-09 - accuracy: 1.0000 - val_loss: 0.1231 - val_accuracy: 0.9850\n",
            "Epoch 14/100\n",
            "188/188 [==============================] - 11s 60ms/step - loss: 1.0232e-09 - accuracy: 1.0000 - val_loss: 0.1228 - val_accuracy: 0.9848\n",
            "Epoch 15/100\n",
            "188/188 [==============================] - 11s 61ms/step - loss: 1.0307e-09 - accuracy: 1.0000 - val_loss: 0.1257 - val_accuracy: 0.9845\n",
            "Epoch 16/100\n",
            "188/188 [==============================] - 11s 60ms/step - loss: 1.0257e-09 - accuracy: 1.0000 - val_loss: 0.1235 - val_accuracy: 0.9848\n",
            "Epoch 17/100\n",
            "188/188 [==============================] - 11s 60ms/step - loss: 9.0649e-10 - accuracy: 1.0000 - val_loss: 0.1252 - val_accuracy: 0.9847\n",
            "Epoch 18/100\n",
            "188/188 [==============================] - 11s 60ms/step - loss: 8.9904e-10 - accuracy: 1.0000 - val_loss: 0.1245 - val_accuracy: 0.9848\n",
            "Epoch 19/100\n",
            "188/188 [==============================] - 11s 60ms/step - loss: 9.2387e-10 - accuracy: 1.0000 - val_loss: 0.1240 - val_accuracy: 0.9847\n",
            "Epoch 20/100\n",
            "188/188 [==============================] - 11s 60ms/step - loss: 9.4622e-10 - accuracy: 1.0000 - val_loss: 0.1255 - val_accuracy: 0.9850\n",
            "Epoch 21/100\n",
            "188/188 [==============================] - 11s 60ms/step - loss: 8.2205e-10 - accuracy: 1.0000 - val_loss: 0.1246 - val_accuracy: 0.9847\n",
            "Epoch 22/100\n",
            "188/188 [==============================] - 11s 61ms/step - loss: 8.5682e-10 - accuracy: 1.0000 - val_loss: 0.1237 - val_accuracy: 0.9847\n",
            "Epoch 23/100\n",
            "188/188 [==============================] - 11s 61ms/step - loss: 8.7420e-10 - accuracy: 1.0000 - val_loss: 0.1268 - val_accuracy: 0.9847\n",
            "Epoch 24/100\n",
            "188/188 [==============================] - 11s 60ms/step - loss: 9.0649e-10 - accuracy: 1.0000 - val_loss: 0.1300 - val_accuracy: 0.9843\n",
            "Epoch 25/100\n",
            "188/188 [==============================] - 11s 60ms/step - loss: 8.1211e-10 - accuracy: 1.0000 - val_loss: 0.1263 - val_accuracy: 0.9850\n",
            "Epoch 26/100\n",
            "188/188 [==============================] - 11s 60ms/step - loss: 8.1460e-10 - accuracy: 1.0000 - val_loss: 0.1263 - val_accuracy: 0.9849\n",
            "Epoch 27/100\n",
            "188/188 [==============================] - 11s 60ms/step - loss: 7.5003e-10 - accuracy: 1.0000 - val_loss: 0.1260 - val_accuracy: 0.9849\n",
            "Epoch 28/100\n",
            "188/188 [==============================] - 11s 60ms/step - loss: 8.6427e-10 - accuracy: 1.0000 - val_loss: 0.1292 - val_accuracy: 0.9846\n",
            "Epoch 29/100\n",
            "188/188 [==============================] - 11s 60ms/step - loss: 8.3695e-10 - accuracy: 1.0000 - val_loss: 0.1294 - val_accuracy: 0.9846\n",
            "Epoch 30/100\n",
            "188/188 [==============================] - 11s 60ms/step - loss: 7.8976e-10 - accuracy: 1.0000 - val_loss: 0.1304 - val_accuracy: 0.9846\n",
            "Epoch 31/100\n",
            "188/188 [==============================] - 11s 61ms/step - loss: 7.8976e-10 - accuracy: 1.0000 - val_loss: 0.1305 - val_accuracy: 0.9843\n",
            "Epoch 32/100\n",
            "188/188 [==============================] - 11s 61ms/step - loss: 7.0781e-10 - accuracy: 1.0000 - val_loss: 0.1288 - val_accuracy: 0.9848\n",
            "Epoch 33/100\n",
            "188/188 [==============================] - 11s 61ms/step - loss: 7.7486e-10 - accuracy: 1.0000 - val_loss: 0.1325 - val_accuracy: 0.9841\n",
            "Epoch 34/100\n",
            "188/188 [==============================] - 11s 61ms/step - loss: 7.8479e-10 - accuracy: 1.0000 - val_loss: 0.1314 - val_accuracy: 0.9847\n",
            "Epoch 35/100\n",
            "188/188 [==============================] - 11s 61ms/step - loss: 7.4257e-10 - accuracy: 1.0000 - val_loss: 0.1319 - val_accuracy: 0.9842\n",
            "Epoch 36/100\n",
            "188/188 [==============================] - 11s 61ms/step - loss: 7.5499e-10 - accuracy: 1.0000 - val_loss: 0.1321 - val_accuracy: 0.9844\n",
            "Epoch 37/100\n",
            "188/188 [==============================] - 11s 60ms/step - loss: 8.1956e-10 - accuracy: 1.0000 - val_loss: 0.1330 - val_accuracy: 0.9839\n",
            "Epoch 38/100\n",
            "188/188 [==============================] - 11s 60ms/step - loss: 7.4506e-10 - accuracy: 1.0000 - val_loss: 0.1333 - val_accuracy: 0.9840\n",
            "Epoch 39/100\n",
            "188/188 [==============================] - 11s 61ms/step - loss: 7.5499e-10 - accuracy: 1.0000 - val_loss: 0.1357 - val_accuracy: 0.9843\n",
            "Epoch 40/100\n",
            "188/188 [==============================] - 11s 60ms/step - loss: 7.3264e-10 - accuracy: 1.0000 - val_loss: 0.1350 - val_accuracy: 0.9840\n",
            "Epoch 41/100\n",
            "188/188 [==============================] - 11s 60ms/step - loss: 7.2271e-10 - accuracy: 1.0000 - val_loss: 0.1346 - val_accuracy: 0.9843\n",
            "Epoch 42/100\n",
            "188/188 [==============================] - 11s 60ms/step - loss: 7.0035e-10 - accuracy: 1.0000 - val_loss: 0.1353 - val_accuracy: 0.9843\n",
            "Epoch 43/100\n",
            "188/188 [==============================] - 11s 60ms/step - loss: 7.3016e-10 - accuracy: 1.0000 - val_loss: 0.1376 - val_accuracy: 0.9841\n",
            "Epoch 44/100\n",
            "188/188 [==============================] - 11s 60ms/step - loss: 6.6559e-10 - accuracy: 1.0000 - val_loss: 0.1365 - val_accuracy: 0.9845\n",
            "Epoch 45/100\n",
            "188/188 [==============================] - 11s 60ms/step - loss: 6.8794e-10 - accuracy: 1.0000 - val_loss: 0.1363 - val_accuracy: 0.9845\n",
            "Epoch 46/100\n",
            "188/188 [==============================] - 11s 61ms/step - loss: 7.0781e-10 - accuracy: 1.0000 - val_loss: 0.1376 - val_accuracy: 0.9843\n",
            "Epoch 47/100\n",
            "188/188 [==============================] - 11s 61ms/step - loss: 6.7055e-10 - accuracy: 1.0000 - val_loss: 0.1358 - val_accuracy: 0.9843\n",
            "Epoch 48/100\n",
            "188/188 [==============================] - 11s 60ms/step - loss: 7.5499e-10 - accuracy: 1.0000 - val_loss: 0.1393 - val_accuracy: 0.9842\n",
            "Epoch 49/100\n",
            "188/188 [==============================] - 11s 60ms/step - loss: 6.9539e-10 - accuracy: 1.0000 - val_loss: 0.1392 - val_accuracy: 0.9840\n",
            "Epoch 50/100\n",
            "188/188 [==============================] - 11s 61ms/step - loss: 7.2519e-10 - accuracy: 1.0000 - val_loss: 0.1395 - val_accuracy: 0.9843\n",
            "Epoch 51/100\n",
            "188/188 [==============================] - 11s 60ms/step - loss: 7.1774e-10 - accuracy: 1.0000 - val_loss: 0.1409 - val_accuracy: 0.9847\n",
            "Epoch 52/100\n",
            "188/188 [==============================] - 11s 60ms/step - loss: 6.7800e-10 - accuracy: 1.0000 - val_loss: 0.1419 - val_accuracy: 0.9839\n",
            "Epoch 53/100\n",
            "188/188 [==============================] - 11s 60ms/step - loss: 7.1774e-10 - accuracy: 1.0000 - val_loss: 0.1391 - val_accuracy: 0.9842\n",
            "Epoch 54/100\n",
            "188/188 [==============================] - 11s 60ms/step - loss: 6.7800e-10 - accuracy: 1.0000 - val_loss: 0.1393 - val_accuracy: 0.9846\n",
            "Epoch 55/100\n",
            "188/188 [==============================] - 11s 60ms/step - loss: 7.6493e-10 - accuracy: 1.0000 - val_loss: 0.1422 - val_accuracy: 0.9843\n",
            "Epoch 56/100\n",
            "188/188 [==============================] - 11s 61ms/step - loss: 6.5317e-10 - accuracy: 1.0000 - val_loss: 0.1410 - val_accuracy: 0.9843\n",
            "Epoch 57/100\n",
            "188/188 [==============================] - 11s 60ms/step - loss: 7.2271e-10 - accuracy: 1.0000 - val_loss: 0.1421 - val_accuracy: 0.9841\n",
            "Epoch 58/100\n",
            "188/188 [==============================] - 11s 61ms/step - loss: 6.4820e-10 - accuracy: 1.0000 - val_loss: 0.1410 - val_accuracy: 0.9843\n",
            "Epoch 59/100\n",
            "188/188 [==============================] - 11s 61ms/step - loss: 7.1526e-10 - accuracy: 1.0000 - val_loss: 0.1427 - val_accuracy: 0.9844\n",
            "Epoch 60/100\n",
            "188/188 [==============================] - 11s 61ms/step - loss: 6.2337e-10 - accuracy: 1.0000 - val_loss: 0.1426 - val_accuracy: 0.9845\n",
            "Epoch 61/100\n",
            "188/188 [==============================] - 11s 61ms/step - loss: 6.5813e-10 - accuracy: 1.0000 - val_loss: 0.1422 - val_accuracy: 0.9843\n",
            "Epoch 62/100\n",
            "188/188 [==============================] - 11s 61ms/step - loss: 7.0781e-10 - accuracy: 1.0000 - val_loss: 0.1443 - val_accuracy: 0.9841\n",
            "Epoch 63/100\n",
            "188/188 [==============================] - 11s 61ms/step - loss: 6.3827e-10 - accuracy: 1.0000 - val_loss: 0.1445 - val_accuracy: 0.9840\n",
            "Epoch 64/100\n",
            "188/188 [==============================] - 11s 61ms/step - loss: 6.4323e-10 - accuracy: 1.0000 - val_loss: 0.1456 - val_accuracy: 0.9842\n",
            "Epoch 65/100\n",
            "188/188 [==============================] - 11s 61ms/step - loss: 6.7800e-10 - accuracy: 1.0000 - val_loss: 0.1472 - val_accuracy: 0.9839\n",
            "Epoch 66/100\n",
            "188/188 [==============================] - 11s 61ms/step - loss: 6.5068e-10 - accuracy: 1.0000 - val_loss: 0.1427 - val_accuracy: 0.9842\n",
            "Epoch 67/100\n",
            "188/188 [==============================] - 11s 60ms/step - loss: 7.0284e-10 - accuracy: 1.0000 - val_loss: 0.1462 - val_accuracy: 0.9841\n",
            "Epoch 68/100\n",
            "188/188 [==============================] - 11s 60ms/step - loss: 7.1774e-10 - accuracy: 1.0000 - val_loss: 0.1458 - val_accuracy: 0.9839\n",
            "Epoch 69/100\n",
            "188/188 [==============================] - 11s 60ms/step - loss: 6.6310e-10 - accuracy: 1.0000 - val_loss: 0.1457 - val_accuracy: 0.9840\n",
            "Epoch 70/100\n",
            "188/188 [==============================] - 11s 60ms/step - loss: 6.5317e-10 - accuracy: 1.0000 - val_loss: 0.1489 - val_accuracy: 0.9837\n",
            "Epoch 71/100\n",
            "188/188 [==============================] - 11s 60ms/step - loss: 6.6062e-10 - accuracy: 1.0000 - val_loss: 0.1470 - val_accuracy: 0.9842\n",
            "Epoch 72/100\n",
            "188/188 [==============================] - 11s 60ms/step - loss: 7.0284e-10 - accuracy: 1.0000 - val_loss: 0.1473 - val_accuracy: 0.9837\n",
            "Epoch 73/100\n",
            "188/188 [==============================] - 11s 61ms/step - loss: 6.8794e-10 - accuracy: 1.0000 - val_loss: 0.1465 - val_accuracy: 0.9839\n",
            "Epoch 74/100\n",
            "188/188 [==============================] - 11s 60ms/step - loss: 6.4820e-10 - accuracy: 1.0000 - val_loss: 0.1475 - val_accuracy: 0.9842\n",
            "Epoch 75/100\n",
            "188/188 [==============================] - 11s 60ms/step - loss: 6.4323e-10 - accuracy: 1.0000 - val_loss: 0.1489 - val_accuracy: 0.9838\n",
            "Epoch 76/100\n",
            "188/188 [==============================] - 11s 61ms/step - loss: 7.0035e-10 - accuracy: 1.0000 - val_loss: 0.1507 - val_accuracy: 0.9839\n",
            "Epoch 77/100\n",
            "188/188 [==============================] - 11s 60ms/step - loss: 6.3082e-10 - accuracy: 1.0000 - val_loss: 0.1497 - val_accuracy: 0.9837\n",
            "Epoch 78/100\n",
            "188/188 [==============================] - 11s 60ms/step - loss: 6.5565e-10 - accuracy: 1.0000 - val_loss: 0.1486 - val_accuracy: 0.9838\n",
            "Epoch 79/100\n",
            "188/188 [==============================] - 11s 61ms/step - loss: 7.0781e-10 - accuracy: 1.0000 - val_loss: 0.1514 - val_accuracy: 0.9835\n",
            "Epoch 80/100\n",
            "188/188 [==============================] - 11s 60ms/step - loss: 6.3082e-10 - accuracy: 1.0000 - val_loss: 0.1505 - val_accuracy: 0.9835\n",
            "Epoch 81/100\n",
            "188/188 [==============================] - 11s 61ms/step - loss: 6.2088e-10 - accuracy: 1.0000 - val_loss: 0.1501 - val_accuracy: 0.9843\n",
            "Epoch 82/100\n",
            "188/188 [==============================] - 11s 60ms/step - loss: 6.6559e-10 - accuracy: 1.0000 - val_loss: 0.1525 - val_accuracy: 0.9834\n",
            "Epoch 83/100\n",
            "188/188 [==============================] - 11s 60ms/step - loss: 7.2767e-10 - accuracy: 1.0000 - val_loss: 0.1561 - val_accuracy: 0.9839\n",
            "Epoch 84/100\n",
            "188/188 [==============================] - 11s 60ms/step - loss: 6.6062e-10 - accuracy: 1.0000 - val_loss: 0.1544 - val_accuracy: 0.9834\n",
            "Epoch 85/100\n",
            "188/188 [==============================] - 11s 61ms/step - loss: 6.7552e-10 - accuracy: 1.0000 - val_loss: 0.1645 - val_accuracy: 0.9833\n",
            "Epoch 86/100\n",
            "188/188 [==============================] - 11s 61ms/step - loss: 6.8049e-10 - accuracy: 1.0000 - val_loss: 0.1544 - val_accuracy: 0.9838\n",
            "Epoch 87/100\n",
            "188/188 [==============================] - 11s 60ms/step - loss: 6.3330e-10 - accuracy: 1.0000 - val_loss: 0.1537 - val_accuracy: 0.9836\n",
            "Epoch 88/100\n",
            "188/188 [==============================] - 11s 60ms/step - loss: 6.0101e-10 - accuracy: 1.0000 - val_loss: 0.1532 - val_accuracy: 0.9840\n",
            "Epoch 89/100\n",
            "188/188 [==============================] - 11s 60ms/step - loss: 6.0846e-10 - accuracy: 1.0000 - val_loss: 0.1524 - val_accuracy: 0.9836\n",
            "Epoch 90/100\n",
            "188/188 [==============================] - 11s 61ms/step - loss: 7.1774e-10 - accuracy: 1.0000 - val_loss: 0.1569 - val_accuracy: 0.9839\n",
            "Epoch 91/100\n",
            "188/188 [==============================] - 11s 60ms/step - loss: 5.8860e-10 - accuracy: 1.0000 - val_loss: 0.1562 - val_accuracy: 0.9837\n",
            "Epoch 92/100\n",
            "188/188 [==============================] - 11s 60ms/step - loss: 6.5813e-10 - accuracy: 1.0000 - val_loss: 0.1562 - val_accuracy: 0.9841\n",
            "Epoch 93/100\n",
            "188/188 [==============================] - 11s 60ms/step - loss: 6.5317e-10 - accuracy: 1.0000 - val_loss: 0.1541 - val_accuracy: 0.9835\n",
            "Epoch 94/100\n",
            "188/188 [==============================] - 11s 61ms/step - loss: 7.1277e-10 - accuracy: 1.0000 - val_loss: 0.1613 - val_accuracy: 0.9839\n",
            "Epoch 95/100\n",
            "188/188 [==============================] - 11s 60ms/step - loss: 6.2585e-10 - accuracy: 1.0000 - val_loss: 0.1606 - val_accuracy: 0.9832\n",
            "Epoch 96/100\n",
            "188/188 [==============================] - 11s 60ms/step - loss: 6.0846e-10 - accuracy: 1.0000 - val_loss: 0.1551 - val_accuracy: 0.9837\n",
            "Epoch 97/100\n",
            "188/188 [==============================] - 11s 60ms/step - loss: 6.3082e-10 - accuracy: 1.0000 - val_loss: 0.1557 - val_accuracy: 0.9840\n",
            "Epoch 98/100\n",
            "188/188 [==============================] - 11s 60ms/step - loss: 6.0101e-10 - accuracy: 1.0000 - val_loss: 0.1559 - val_accuracy: 0.9837\n",
            "Epoch 99/100\n",
            "188/188 [==============================] - 11s 61ms/step - loss: 6.3578e-10 - accuracy: 1.0000 - val_loss: 0.1560 - val_accuracy: 0.9834\n",
            "Epoch 100/100\n",
            "188/188 [==============================] - 11s 60ms/step - loss: 7.2519e-10 - accuracy: 1.0000 - val_loss: 0.1577 - val_accuracy: 0.9833\n"
          ],
          "name": "stdout"
        }
      ]
    },
    {
      "cell_type": "markdown",
      "metadata": {
        "id": "-poynZU_Hrsf"
      },
      "source": [
        "Save the model"
      ]
    },
    {
      "cell_type": "code",
      "metadata": {
        "id": "EIvW4OFZHrsg"
      },
      "source": [
        "full_model.save_weights('classification_complete.h5')"
      ],
      "execution_count": 43,
      "outputs": []
    },
    {
      "cell_type": "markdown",
      "metadata": {
        "id": "9_nWWyGLHrsj"
      },
      "source": [
        "Plot the accuracy and loss plots between training and validation data:"
      ]
    },
    {
      "cell_type": "code",
      "metadata": {
        "colab": {
          "base_uri": "https://localhost:8080/",
          "height": 545
        },
        "id": "2DYrgPw6Hrsk",
        "outputId": "9b360f48-a0da-4c7b-d251-98ec01d9c78b"
      },
      "source": [
        "accuracy = classify_train.history['accuracy']\n",
        "val_accuracy = classify_train.history['val_accuracy']\n",
        "loss = classify_train.history['loss']\n",
        "val_loss = classify_train.history['val_loss']\n",
        "epochs = range(len(accuracy))\n",
        "plt.plot(epochs, accuracy, 'bo', label='Training accuracy')\n",
        "plt.plot(epochs, val_accuracy, 'b', label='Validation accuracy')\n",
        "plt.title('Training and validation accuracy')\n",
        "plt.legend()\n",
        "plt.figure()\n",
        "plt.plot(epochs, loss, 'bo', label='Training loss')\n",
        "plt.plot(epochs, val_loss, 'b', label='Validation loss')\n",
        "plt.title('Training and validation loss')\n",
        "plt.legend()\n",
        "plt.show()"
      ],
      "execution_count": 44,
      "outputs": [
        {
          "output_type": "display_data",
          "data": {
            "image/png": "[encoded data removed]",
            "text/plain": [
              "<Figure size 432x288 with 1 Axes>"
            ]
          },
          "metadata": {
            "tags": [],
            "needs_background": "light"
          }
        },
        {
          "output_type": "display_data",
          "data": {
            "image/png": "[encoded data removed]",
            "text/plain": [
              "<Figure size 432x288 with 1 Axes>"
            ]
          },
          "metadata": {
            "tags": [],
            "needs_background": "light"
          }
        }
      ]
    },
    {
      "cell_type": "markdown",
      "metadata": {
        "id": "2GA78iVoHrsn"
      },
      "source": [
        "Model Evaluation on the Test Set\n"
      ]
    },
    {
      "cell_type": "code",
      "metadata": {
        "colab": {
          "base_uri": "https://localhost:8080/"
        },
        "id": "QwRhYdbBHrsp",
        "outputId": "1f7b17c6-d815-44c5-f01d-e3b4e9915a21"
      },
      "source": [
        "test_eval = full_model.evaluate(test_data, test_Y_one_hot, verbose=0)\n",
        "\n",
        "print('Test loss:', test_eval[0])\n",
        "print('Test accuracy:', test_eval[1])"
      ],
      "execution_count": 45,
      "outputs": [
        {
          "output_type": "stream",
          "text": [
            "Test loss: 0.15347415208816528\n",
            "Test accuracy: 0.9832000136375427\n"
          ],
          "name": "stdout"
        }
      ]
    },
    {
      "cell_type": "markdown",
      "metadata": {
        "id": "qw2K9zMjHrs-"
      },
      "source": [
        "Predict Labels"
      ]
    },
    {
      "cell_type": "code",
      "metadata": {
        "id": "dLBzyUKoHrs-"
      },
      "source": [
        "predicted_classes = full_model.predict(test_data)"
      ],
      "execution_count": 46,
      "outputs": []
    },
    {
      "cell_type": "code",
      "metadata": {
        "colab": {
          "base_uri": "https://localhost:8080/"
        },
        "id": "CqoMjnpAHrtC",
        "outputId": "ce4bdafb-3d0c-4a3c-8a1c-bcb02e6ff740"
      },
      "source": [
        "predicted_classes = np.argmax(np.round(predicted_classes),axis=1)\n",
        "predicted_classes.shape, test_labels.shape"
      ],
      "execution_count": 47,
      "outputs": [
        {
          "output_type": "execute_result",
          "data": {
            "text/plain": [
              "((10000,), (10000,))"
            ]
          },
          "metadata": {
            "tags": []
          },
          "execution_count": 47
        }
      ]
    },
    {
      "cell_type": "code",
      "metadata": {
        "colab": {
          "base_uri": "https://localhost:8080/",
          "height": 314
        },
        "id": "M1tGqD-xHrtF",
        "outputId": "a4daad28-f1cc-4d1a-f049-5e0280823335"
      },
      "source": [
        "correct = np.where(predicted_classes==test_labels)[0]\n",
        "print (\"Found %d correct labels\" % len(correct))\n",
        "for i, correct in enumerate(correct[:9]):\n",
        "    plt.subplot(3,3,i+1)\n",
        "    plt.imshow(test_data[correct].reshape(28,28), cmap='gray', interpolation='none')\n",
        "    plt.title(\"Predicted {}, Class {}\".format(predicted_classes[correct], test_labels[correct]))\n",
        "    plt.tight_layout()"
      ],
      "execution_count": 48,
      "outputs": [
        {
          "output_type": "stream",
          "text": [
            "Found 9832 correct labels\n"
          ],
          "name": "stdout"
        },
        {
          "output_type": "display_data",
          "data": {
            "image/png": "[encoded data removed]",
            "text/plain": [
              "<Figure size 432x288 with 9 Axes>"
            ]
          },
          "metadata": {
            "tags": [],
            "needs_background": "light"
          }
        }
      ]
    },
    {
      "cell_type": "code",
      "metadata": {
        "colab": {
          "base_uri": "https://localhost:8080/",
          "height": 314
        },
        "id": "tswuHUydHrtI",
        "outputId": "9706dcc0-d82f-4f88-ee3f-240d27ca2fb9"
      },
      "source": [
        "incorrect = np.where(predicted_classes!=test_labels)[0]\n",
        "print (\"Found %d incorrect labels\" % len(incorrect))\n",
        "for i, incorrect in enumerate(incorrect[:9]):\n",
        "    plt.subplot(3,3,i+1)\n",
        "    plt.imshow(test_data[incorrect].reshape(28,28), cmap='gray', interpolation='none')\n",
        "    plt.title(\"Predicted {}, Class {}\".format(predicted_classes[incorrect], test_labels[incorrect]))\n",
        "    plt.tight_layout()"
      ],
      "execution_count": 49,
      "outputs": [
        {
          "output_type": "stream",
          "text": [
            "Found 168 incorrect labels\n"
          ],
          "name": "stdout"
        },
        {
          "output_type": "display_data",
          "data": {
            "image/png": "[encoded data removed]",
            "text/plain": [
              "<Figure size 432x288 with 9 Axes>"
            ]
          },
          "metadata": {
            "tags": [],
            "needs_background": "light"
          }
        }
      ]
    },
    {
      "cell_type": "markdown",
      "metadata": {
        "id": "r81zYC8nHrtM"
      },
      "source": [
        "Classification Report\n"
      ]
    },
    {
      "cell_type": "code",
      "metadata": {
        "colab": {
          "base_uri": "https://localhost:8080/"
        },
        "id": "EdTA7VA4HrtN",
        "outputId": "34807cbc-84c5-4f4f-ebc5-2279aa91ac3c"
      },
      "source": [
        "from sklearn.metrics import classification_report\n",
        "target_names = [\"Class {}\".format(i) for i in range(num_classes)]\n",
        "print(classification_report(test_labels, predicted_classes, target_names=target_names))"
      ],
      "execution_count": 50,
      "outputs": [
        {
          "output_type": "stream",
          "text": [
            "              precision    recall  f1-score   support\n",
            "\n",
            "     Class 0       0.98      0.99      0.99       980\n",
            "     Class 1       0.99      0.99      0.99      1135\n",
            "     Class 2       0.98      0.98      0.98      1032\n",
            "     Class 3       0.98      0.99      0.98      1010\n",
            "     Class 4       0.99      0.99      0.99       982\n",
            "     Class 5       0.98      0.98      0.98       892\n",
            "     Class 6       0.99      0.98      0.99       958\n",
            "     Class 7       0.99      0.98      0.98      1028\n",
            "     Class 8       0.98      0.98      0.98       974\n",
            "     Class 9       0.97      0.97      0.97      1009\n",
            "\n",
            "    accuracy                           0.98     10000\n",
            "   macro avg       0.98      0.98      0.98     10000\n",
            "weighted avg       0.98      0.98      0.98     10000\n",
            "\n"
          ],
          "name": "stdout"
        }
      ]
    },
    {
      "cell_type": "code",
      "metadata": {
        "id": "Fp5dMAR2HrtQ"
      },
      "source": [
        ""
      ],
      "execution_count": null,
      "outputs": []
    }
  ]
}